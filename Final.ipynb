{
 "cells": [
  {
   "cell_type": "code",
   "execution_count": 1,
   "id": "327594ac",
   "metadata": {},
   "outputs": [],
   "source": [
    "import pickle\n",
    "import os\n",
    "import pandas as pd\n",
    "import numpy as np\n",
    "from tqdm import tqdm\n",
    "from scipy.fft import fft"
   ]
  },
  {
   "cell_type": "markdown",
   "id": "d636f6ff",
   "metadata": {},
   "source": [
    "### Loading Our Best SVR Model and Standard Scalar"
   ]
  },
  {
   "cell_type": "code",
   "execution_count": 2,
   "id": "3035d483",
   "metadata": {},
   "outputs": [],
   "source": [
    "filename = 'final_Best_Model.sav'\n",
    "filename2 = 'Standard_scalar.sav'\n",
    "Model = pickle.load(open(filename, 'rb'))\n",
    "scalar = pickle.load(open(filename2, 'rb'))"
   ]
  },
  {
   "cell_type": "markdown",
   "id": "adc808dc",
   "metadata": {},
   "source": [
    "## Predicting Test File"
   ]
  },
  {
   "cell_type": "code",
   "execution_count": 3,
   "id": "4e67142d",
   "metadata": {},
   "outputs": [],
   "source": [
    "# list byteFiles directory\n",
    "files = os.listdir('Test')"
   ]
  },
  {
   "cell_type": "code",
   "execution_count": 4,
   "id": "977deefd",
   "metadata": {},
   "outputs": [],
   "source": [
    "index = [i for i in range(len(files[2:]))]"
   ]
  },
  {
   "cell_type": "code",
   "execution_count": 5,
   "id": "71bfa2ba",
   "metadata": {},
   "outputs": [],
   "source": [
    "Test = pd.DataFrame(index = index, columns = ['seg_id','10%_Roll_100','10%_Roll_1000', '5%_Roll_100', '5%_Roll_10000', '5%_Roll_1000', 'Mean', 'Real_FFT_Max', '10%_Roll_10000'])"
   ]
  },
  {
   "cell_type": "code",
   "execution_count": 6,
   "id": "85163de2",
   "metadata": {},
   "outputs": [
    {
     "data": {
      "text/plain": [
       "'\\nIn this function I first load my test data which have different csv file of 150000 rows each. Then I do feature engineering based on\\ntop features I take during training the model and than I apply our SVR model for prediction and return the whole predicted array.\\n'"
      ]
     },
     "execution_count": 6,
     "metadata": {},
     "output_type": "execute_result"
    }
   ],
   "source": [
    "def final_fun_1(files):\n",
    "    for i in tqdm(range(len(files))):\n",
    "        if i > 1:\n",
    "            X = pd.read_csv('Test/' + files[i])\n",
    "            X = X['acoustic_data']\n",
    "            \n",
    "            #Fast Fourier Transform\n",
    "            ff_trans = fft(X)            #https://docs.scipy.org/doc/scipy/tutorial/fft.html\n",
    "            #In Fast Fourier Transform we have real and imaginory data so with the help of numpy we distribute these data\n",
    "            real_FFT = np.real(ff_trans)    #https://numpy.org/doc/stable/reference/generated/numpy.real.html\n",
    "            Test['seg_id'][i-2] = files[i].split('.')[0]\n",
    "            Test['Mean'][i-2] = X.mean()\n",
    "            Test['Real_FFT_Max'][i-2] = real_FFT.max()\n",
    "            for j in [100,1000,10000]:    #this will select window size as mention in the research paper\n",
    "                Roll = X.rolling(j).std().dropna().values          #https://pandas.pydata.org/docs/reference/api/pandas.DataFrame.rolling.html\n",
    "                if j == 100:\n",
    "                    Test['5%_Roll_'+str(j)][i-2] = np.quantile(Roll, 0.05)\n",
    "                    Test['10%_Roll_'+str(j)][i-2] = np.quantile(Roll, 0.10)\n",
    "                elif j == 1000:\n",
    "                    Test['5%_Roll_'+str(j)][i-2] = np.quantile(Roll, 0.05)\n",
    "                    Test['10%_Roll_'+str(j)][i-2] = np.quantile(Roll, 0.10)\n",
    "                elif j == 10000:\n",
    "                    Test['5%_Roll_'+str(j)][i-2] = np.quantile(Roll, 0.05)\n",
    "                    Test['10%_Roll_'+str(j)][i-2] = np.quantile(Roll, 0.10)\n",
    "    test = Test[['10%_Roll_100','10%_Roll_1000', '5%_Roll_100', '5%_Roll_10000', '5%_Roll_1000', 'Mean', 'Real_FFT_Max', '10%_Roll_10000']]\n",
    "    \n",
    "    #scaler = StandardScaler()\n",
    "    scalar.transform(test)\n",
    "    test_scaled = pd.DataFrame(scalar.fit_transform(test), columns=test.columns)\n",
    "    \n",
    "    #For prediction we use SVR with top features model because it have less MAE as compare to others\n",
    "    y_pred = Model.predict(test_scaled)\n",
    "    \n",
    "    return y_pred\n",
    "\n",
    "'''\n",
    "In this function I first load my test data which have different csv file of 150000 rows each. Then I do feature engineering based on\n",
    "top features I take during training the model and than I apply our SVR model for prediction and return the whole predicted array.\n",
    "'''\n",
    "    "
   ]
  },
  {
   "cell_type": "code",
   "execution_count": 7,
   "id": "0d6d0525",
   "metadata": {},
   "outputs": [
    {
     "name": "stderr",
     "output_type": "stream",
     "text": [
      "100%|██████████| 2626/2626 [02:32<00:00, 17.23it/s]\n"
     ]
    }
   ],
   "source": [
    "y_pred = final_fun_1(files)"
   ]
  },
  {
   "cell_type": "markdown",
   "id": "864213c5",
   "metadata": {},
   "source": [
    "### We can't build function 2 as mention in the instruction because we don't have true Target value to compute MAE (Mean Absolute Error)."
   ]
  },
  {
   "cell_type": "code",
   "execution_count": 8,
   "id": "4bf49869",
   "metadata": {},
   "outputs": [],
   "source": [
    "submission = Test[['seg_id']]"
   ]
  },
  {
   "cell_type": "code",
   "execution_count": 9,
   "id": "e4bb6cb7",
   "metadata": {},
   "outputs": [
    {
     "name": "stderr",
     "output_type": "stream",
     "text": [
      "C:\\Users\\manas\\Anaconda3\\envs\\Tensor_GPU\\lib\\site-packages\\ipykernel_launcher.py:1: SettingWithCopyWarning: \n",
      "A value is trying to be set on a copy of a slice from a DataFrame.\n",
      "Try using .loc[row_indexer,col_indexer] = value instead\n",
      "\n",
      "See the caveats in the documentation: https://pandas.pydata.org/pandas-docs/stable/user_guide/indexing.html#returning-a-view-versus-a-copy\n",
      "  \"\"\"Entry point for launching an IPython kernel.\n"
     ]
    }
   ],
   "source": [
    "submission['time_to_failure'] = y_pred"
   ]
  },
  {
   "cell_type": "code",
   "execution_count": 10,
   "id": "2502e890",
   "metadata": {},
   "outputs": [
    {
     "data": {
      "text/html": [
       "<div>\n",
       "<style scoped>\n",
       "    .dataframe tbody tr th:only-of-type {\n",
       "        vertical-align: middle;\n",
       "    }\n",
       "\n",
       "    .dataframe tbody tr th {\n",
       "        vertical-align: top;\n",
       "    }\n",
       "\n",
       "    .dataframe thead th {\n",
       "        text-align: right;\n",
       "    }\n",
       "</style>\n",
       "<table border=\"1\" class=\"dataframe\">\n",
       "  <thead>\n",
       "    <tr style=\"text-align: right;\">\n",
       "      <th></th>\n",
       "      <th>seg_id</th>\n",
       "      <th>time_to_failure</th>\n",
       "    </tr>\n",
       "  </thead>\n",
       "  <tbody>\n",
       "    <tr>\n",
       "      <th>0</th>\n",
       "      <td>seg_00030f</td>\n",
       "      <td>4.533960</td>\n",
       "    </tr>\n",
       "    <tr>\n",
       "      <th>1</th>\n",
       "      <td>seg_0012b5</td>\n",
       "      <td>4.899752</td>\n",
       "    </tr>\n",
       "    <tr>\n",
       "      <th>2</th>\n",
       "      <td>seg_00184e</td>\n",
       "      <td>5.756910</td>\n",
       "    </tr>\n",
       "    <tr>\n",
       "      <th>3</th>\n",
       "      <td>seg_003339</td>\n",
       "      <td>7.982026</td>\n",
       "    </tr>\n",
       "    <tr>\n",
       "      <th>4</th>\n",
       "      <td>seg_0042cc</td>\n",
       "      <td>6.723822</td>\n",
       "    </tr>\n",
       "    <tr>\n",
       "      <th>...</th>\n",
       "      <td>...</td>\n",
       "      <td>...</td>\n",
       "    </tr>\n",
       "    <tr>\n",
       "      <th>2619</th>\n",
       "      <td>seg_ff4236</td>\n",
       "      <td>5.188404</td>\n",
       "    </tr>\n",
       "    <tr>\n",
       "      <th>2620</th>\n",
       "      <td>seg_ff7478</td>\n",
       "      <td>6.360181</td>\n",
       "    </tr>\n",
       "    <tr>\n",
       "      <th>2621</th>\n",
       "      <td>seg_ff79d9</td>\n",
       "      <td>3.048874</td>\n",
       "    </tr>\n",
       "    <tr>\n",
       "      <th>2622</th>\n",
       "      <td>seg_ffbd6a</td>\n",
       "      <td>1.534785</td>\n",
       "    </tr>\n",
       "    <tr>\n",
       "      <th>2623</th>\n",
       "      <td>seg_ffe7cc</td>\n",
       "      <td>8.543905</td>\n",
       "    </tr>\n",
       "  </tbody>\n",
       "</table>\n",
       "<p>2624 rows × 2 columns</p>\n",
       "</div>"
      ],
      "text/plain": [
       "          seg_id  time_to_failure\n",
       "0     seg_00030f         4.533960\n",
       "1     seg_0012b5         4.899752\n",
       "2     seg_00184e         5.756910\n",
       "3     seg_003339         7.982026\n",
       "4     seg_0042cc         6.723822\n",
       "...          ...              ...\n",
       "2619  seg_ff4236         5.188404\n",
       "2620  seg_ff7478         6.360181\n",
       "2621  seg_ff79d9         3.048874\n",
       "2622  seg_ffbd6a         1.534785\n",
       "2623  seg_ffe7cc         8.543905\n",
       "\n",
       "[2624 rows x 2 columns]"
      ]
     },
     "execution_count": 10,
     "metadata": {},
     "output_type": "execute_result"
    }
   ],
   "source": [
    "submission"
   ]
  },
  {
   "cell_type": "code",
   "execution_count": 11,
   "id": "b095f2f2",
   "metadata": {},
   "outputs": [],
   "source": [
    "submission.to_csv('submission.csv', index=False)   #https://stackoverflow.com/questions/20107570/removing-index-column-in-pandas-when-reading-a-csv"
   ]
  },
  {
   "cell_type": "markdown",
   "id": "ceb26fed",
   "metadata": {},
   "source": [
    "## Result\n",
    "#### On Kaggle after submission I got a Public Score: 1.690 and a Private Score: 2.606"
   ]
  },
  {
   "cell_type": "code",
   "execution_count": null,
   "id": "4e5360c6",
   "metadata": {},
   "outputs": [],
   "source": []
  }
 ],
 "metadata": {
  "kernelspec": {
   "display_name": "Python 3 (ipykernel)",
   "language": "python",
   "name": "python3"
  },
  "language_info": {
   "codemirror_mode": {
    "name": "ipython",
    "version": 3
   },
   "file_extension": ".py",
   "mimetype": "text/x-python",
   "name": "python",
   "nbconvert_exporter": "python",
   "pygments_lexer": "ipython3",
   "version": "3.7.16"
  }
 },
 "nbformat": 4,
 "nbformat_minor": 5
}
