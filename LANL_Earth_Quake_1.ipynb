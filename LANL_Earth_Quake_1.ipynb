{
 "cells": [
  {
   "cell_type": "code",
   "execution_count": 1,
   "metadata": {},
   "outputs": [],
   "source": [
    "import numpy as np\n",
    "import pandas as pd\n",
    "import matplotlib.pyplot as plt\n",
    "from tqdm import tqdm\n",
    "from scipy import stats\n",
    "from scipy import signal\n",
    "from statistics import variance\n",
    "import seaborn as sns\n",
    "from scipy.fft import fft\n",
    "import os"
   ]
  },
  {
   "cell_type": "code",
   "execution_count": 2,
   "metadata": {
    "execution": {
     "iopub.execute_input": "2023-02-04T18:10:28.252777Z",
     "iopub.status.busy": "2023-02-04T18:10:28.251871Z",
     "iopub.status.idle": "2023-02-04T18:14:16.169284Z",
     "shell.execute_reply": "2023-02-04T18:14:16.168103Z",
     "shell.execute_reply.started": "2023-02-04T18:10:28.252728Z"
    },
    "scrolled": true
   },
   "outputs": [],
   "source": [
    "train = pd.read_csv('train.csv')"
   ]
  },
  {
   "cell_type": "code",
   "execution_count": 3,
   "metadata": {
    "execution": {
     "iopub.execute_input": "2023-02-04T18:14:21.317702Z",
     "iopub.status.busy": "2023-02-04T18:14:21.317293Z",
     "iopub.status.idle": "2023-02-04T18:14:21.344104Z",
     "shell.execute_reply": "2023-02-04T18:14:21.342897Z",
     "shell.execute_reply.started": "2023-02-04T18:14:21.317670Z"
    },
    "scrolled": true
   },
   "outputs": [
    {
     "data": {
      "text/html": [
       "<div>\n",
       "<style scoped>\n",
       "    .dataframe tbody tr th:only-of-type {\n",
       "        vertical-align: middle;\n",
       "    }\n",
       "\n",
       "    .dataframe tbody tr th {\n",
       "        vertical-align: top;\n",
       "    }\n",
       "\n",
       "    .dataframe thead th {\n",
       "        text-align: right;\n",
       "    }\n",
       "</style>\n",
       "<table border=\"1\" class=\"dataframe\">\n",
       "  <thead>\n",
       "    <tr style=\"text-align: right;\">\n",
       "      <th></th>\n",
       "      <th>acoustic_data</th>\n",
       "      <th>time_to_failure</th>\n",
       "    </tr>\n",
       "  </thead>\n",
       "  <tbody>\n",
       "    <tr>\n",
       "      <th>0</th>\n",
       "      <td>12</td>\n",
       "      <td>1.4691</td>\n",
       "    </tr>\n",
       "    <tr>\n",
       "      <th>1</th>\n",
       "      <td>6</td>\n",
       "      <td>1.4691</td>\n",
       "    </tr>\n",
       "    <tr>\n",
       "      <th>2</th>\n",
       "      <td>8</td>\n",
       "      <td>1.4691</td>\n",
       "    </tr>\n",
       "    <tr>\n",
       "      <th>3</th>\n",
       "      <td>5</td>\n",
       "      <td>1.4691</td>\n",
       "    </tr>\n",
       "    <tr>\n",
       "      <th>4</th>\n",
       "      <td>8</td>\n",
       "      <td>1.4691</td>\n",
       "    </tr>\n",
       "  </tbody>\n",
       "</table>\n",
       "</div>"
      ],
      "text/plain": [
       "   acoustic_data  time_to_failure\n",
       "0             12           1.4691\n",
       "1              6           1.4691\n",
       "2              8           1.4691\n",
       "3              5           1.4691\n",
       "4              8           1.4691"
      ]
     },
     "execution_count": 3,
     "metadata": {},
     "output_type": "execute_result"
    }
   ],
   "source": [
    "train.head()"
   ]
  },
  {
   "cell_type": "code",
   "execution_count": 4,
   "metadata": {},
   "outputs": [
    {
     "data": {
      "text/html": [
       "<div>\n",
       "<style scoped>\n",
       "    .dataframe tbody tr th:only-of-type {\n",
       "        vertical-align: middle;\n",
       "    }\n",
       "\n",
       "    .dataframe tbody tr th {\n",
       "        vertical-align: top;\n",
       "    }\n",
       "\n",
       "    .dataframe thead th {\n",
       "        text-align: right;\n",
       "    }\n",
       "</style>\n",
       "<table border=\"1\" class=\"dataframe\">\n",
       "  <thead>\n",
       "    <tr style=\"text-align: right;\">\n",
       "      <th></th>\n",
       "      <th>acoustic_data</th>\n",
       "      <th>time_to_failure</th>\n",
       "    </tr>\n",
       "  </thead>\n",
       "  <tbody>\n",
       "    <tr>\n",
       "      <th>count</th>\n",
       "      <td>6.291455e+08</td>\n",
       "      <td>6.291455e+08</td>\n",
       "    </tr>\n",
       "    <tr>\n",
       "      <th>mean</th>\n",
       "      <td>4.519468e+00</td>\n",
       "      <td>5.678292e+00</td>\n",
       "    </tr>\n",
       "    <tr>\n",
       "      <th>std</th>\n",
       "      <td>1.073571e+01</td>\n",
       "      <td>3.672697e+00</td>\n",
       "    </tr>\n",
       "    <tr>\n",
       "      <th>min</th>\n",
       "      <td>-5.515000e+03</td>\n",
       "      <td>9.550396e-05</td>\n",
       "    </tr>\n",
       "    <tr>\n",
       "      <th>25%</th>\n",
       "      <td>2.000000e+00</td>\n",
       "      <td>2.625997e+00</td>\n",
       "    </tr>\n",
       "    <tr>\n",
       "      <th>50%</th>\n",
       "      <td>5.000000e+00</td>\n",
       "      <td>5.349798e+00</td>\n",
       "    </tr>\n",
       "    <tr>\n",
       "      <th>75%</th>\n",
       "      <td>7.000000e+00</td>\n",
       "      <td>8.173396e+00</td>\n",
       "    </tr>\n",
       "    <tr>\n",
       "      <th>max</th>\n",
       "      <td>5.444000e+03</td>\n",
       "      <td>1.610740e+01</td>\n",
       "    </tr>\n",
       "  </tbody>\n",
       "</table>\n",
       "</div>"
      ],
      "text/plain": [
       "       acoustic_data  time_to_failure\n",
       "count   6.291455e+08     6.291455e+08\n",
       "mean    4.519468e+00     5.678292e+00\n",
       "std     1.073571e+01     3.672697e+00\n",
       "min    -5.515000e+03     9.550396e-05\n",
       "25%     2.000000e+00     2.625997e+00\n",
       "50%     5.000000e+00     5.349798e+00\n",
       "75%     7.000000e+00     8.173396e+00\n",
       "max     5.444000e+03     1.610740e+01"
      ]
     },
     "execution_count": 4,
     "metadata": {},
     "output_type": "execute_result"
    }
   ],
   "source": [
    "train.describe()"
   ]
  },
  {
   "cell_type": "code",
   "execution_count": 5,
   "metadata": {},
   "outputs": [
    {
     "name": "stdout",
     "output_type": "stream",
     "text": [
      "<class 'pandas.core.frame.DataFrame'>\n",
      "RangeIndex: 629145480 entries, 0 to 629145479\n",
      "Data columns (total 2 columns):\n",
      " #   Column           Dtype  \n",
      "---  ------           -----  \n",
      " 0   acoustic_data    int64  \n",
      " 1   time_to_failure  float64\n",
      "dtypes: float64(1), int64(1)\n",
      "memory usage: 9.4 GB\n"
     ]
    }
   ],
   "source": [
    "train.info()"
   ]
  },
  {
   "cell_type": "markdown",
   "metadata": {},
   "source": [
    "### It is not possible to plot graph of every data that we have collected. That’s why I decided to show only 25K data"
   ]
  },
  {
   "cell_type": "markdown",
   "metadata": {},
   "source": [
    "## For Performing EDA I use some codes from my old Haberman Assignment"
   ]
  },
  {
   "cell_type": "markdown",
   "metadata": {},
   "source": [
    "## Density Plot"
   ]
  },
  {
   "cell_type": "code",
   "execution_count": 4,
   "metadata": {},
   "outputs": [
    {
     "data": {
      "text/plain": [
       "<AxesSubplot:ylabel='Density'>"
      ]
     },
     "execution_count": 4,
     "metadata": {},
     "output_type": "execute_result"
    },
    {
     "data": {
      "image/png": "[encoded data removed]",
      "text/plain": [
       "<Figure size 640x480 with 1 Axes>"
      ]
     },
     "metadata": {},
     "output_type": "display_data"
    }
   ],
   "source": [
    "train['acoustic_data'][:25000].plot(kind='density')"
   ]
  },
  {
   "cell_type": "markdown",
   "metadata": {},
   "source": [
    "## Observation\n",
    "#### 1) Majority value lie between -10 to 10 approximately.\n",
    "#### 2) And we can clearly see that outliers are present in both direction."
   ]
  },
  {
   "cell_type": "code",
   "execution_count": 5,
   "metadata": {},
   "outputs": [
    {
     "data": {
      "text/plain": [
       "<AxesSubplot:ylabel='Density'>"
      ]
     },
     "execution_count": 5,
     "metadata": {},
     "output_type": "execute_result"
    },
    {
     "data": {
      "image/png": "[encoded data removed]",
      "text/plain": [
       "<Figure size 640x480 with 1 Axes>"
      ]
     },
     "metadata": {},
     "output_type": "display_data"
    }
   ],
   "source": [
    "train['time_to_failure'][:25000].plot(kind='density')"
   ]
  },
  {
   "cell_type": "markdown",
   "metadata": {},
   "source": [
    "## Observation\n",
    "#### 1) The density of target data start increasing after 1.462 approx at 1.463 it increases.\n",
    "#### 2) The density of 1.464, 1.466, 1.468, 1.470 are constant and high."
   ]
  },
  {
   "cell_type": "markdown",
   "metadata": {},
   "source": [
    "## Box Plot"
   ]
  },
  {
   "cell_type": "code",
   "execution_count": 6,
   "metadata": {},
   "outputs": [
    {
     "data": {
      "image/png": "[encoded data removed]",
      "text/plain": [
       "<Figure size 640x480 with 1 Axes>"
      ]
     },
     "metadata": {},
     "output_type": "display_data"
    }
   ],
   "source": [
    "sns.boxplot(data=train['acoustic_data'][:25000])\n",
    "plt.title(\"Box Plot of Acoustic Data\")\n",
    "plt.show()"
   ]
  },
  {
   "cell_type": "markdown",
   "metadata": {},
   "source": [
    "### Observation\n",
    "#### 1) As we can see there is outliers present in our data.\n",
    "#### 2) 25%,50% and 75% are present between -15 to 15."
   ]
  },
  {
   "cell_type": "code",
   "execution_count": 7,
   "metadata": {},
   "outputs": [
    {
     "data": {
      "image/png": "[encoded data removed]",
      "text/plain": [
       "<Figure size 640x480 with 1 Axes>"
      ]
     },
     "metadata": {},
     "output_type": "display_data"
    }
   ],
   "source": [
    "sns.boxplot(data=train['time_to_failure'][:25000])\n",
    "plt.title(\"Box Plot of Time To Failure\")\n",
    "plt.show()"
   ]
  },
  {
   "cell_type": "markdown",
   "metadata": {},
   "source": [
    "## Observation\n",
    "#### 1) There is no outlier present in our target features.\n",
    "#### 2) 25% of target have < 1.465 time to failure.\n",
    "#### 3) 50% of target have < 1.466 time to failure.\n",
    "#### 4) 75% of taget have < 1.468 time to failure."
   ]
  },
  {
   "cell_type": "markdown",
   "metadata": {},
   "source": [
    "## Histogram"
   ]
  },
  {
   "cell_type": "code",
   "execution_count": 8,
   "metadata": {},
   "outputs": [
    {
     "data": {
      "text/plain": [
       "<AxesSubplot:xlabel='acoustic_data', ylabel='Count'>"
      ]
     },
     "execution_count": 8,
     "metadata": {},
     "output_type": "execute_result"
    },
    {
     "data": {
      "image/png": "[encoded data removed]",
      "text/plain": [
       "<Figure size 640x480 with 1 Axes>"
      ]
     },
     "metadata": {},
     "output_type": "display_data"
    }
   ],
   "source": [
    "sns.histplot(train['acoustic_data'][:25000])"
   ]
  },
  {
   "cell_type": "markdown",
   "metadata": {},
   "source": [
    "## Observation\n",
    "#### 1) As we can see we have outliers in both direction from -25 to -100 and 25 to 100.\n",
    "#### 2) our major data lie between -10 to 10 approximately."
   ]
  },
  {
   "cell_type": "code",
   "execution_count": 9,
   "metadata": {
    "scrolled": false
   },
   "outputs": [
    {
     "data": {
      "text/plain": [
       "<AxesSubplot:xlabel='time_to_failure', ylabel='Count'>"
      ]
     },
     "execution_count": 9,
     "metadata": {},
     "output_type": "execute_result"
    },
    {
     "data": {
      "image/png": "[encoded data removed]",
      "text/plain": [
       "<Figure size 640x480 with 1 Axes>"
      ]
     },
     "metadata": {},
     "output_type": "display_data"
    }
   ],
   "source": [
    "sns.histplot(train['time_to_failure'][:25000])"
   ]
  },
  {
   "cell_type": "markdown",
   "metadata": {},
   "source": [
    "## Observation\n",
    "#### 1) As we can see count of 1.463 is smaller in comparision to others.\n",
    "#### 2) Except 1.463 all rows have equal counts."
   ]
  },
  {
   "cell_type": "markdown",
   "metadata": {},
   "source": [
    "## With the help of this research paper (https://www.irjet.net/archives/V8/i5/IRJET-V8I5574.pdf) I learn to plot these below 3 plots."
   ]
  },
  {
   "cell_type": "markdown",
   "metadata": {},
   "source": [
    "## Acoustic Data, plotted against time"
   ]
  },
  {
   "cell_type": "code",
   "execution_count": 10,
   "metadata": {
    "execution": {
     "iopub.execute_input": "2023-02-04T18:15:07.587462Z",
     "iopub.status.busy": "2023-02-04T18:15:07.587058Z",
     "iopub.status.idle": "2023-02-04T18:18:14.473447Z",
     "shell.execute_reply": "2023-02-04T18:18:14.471769Z",
     "shell.execute_reply.started": "2023-02-04T18:15:07.587429Z"
    }
   },
   "outputs": [
    {
     "data": {
      "text/plain": [
       "[<matplotlib.lines.Line2D at 0x283e2eb7c08>]"
      ]
     },
     "execution_count": 10,
     "metadata": {},
     "output_type": "execute_result"
    },
    {
     "data": {
      "image/png": "[encoded data removed]",
      "text/plain": [
       "<Figure size 640x480 with 1 Axes>"
      ]
     },
     "metadata": {},
     "output_type": "display_data"
    }
   ],
   "source": [
    "#https://www.geeksforgeeks.org/plotting-various-sounds-on-graphs-using-python-and-matplotlib/\n",
    "plt.plot(train['acoustic_data'][:25000])"
   ]
  },
  {
   "cell_type": "markdown",
   "metadata": {},
   "source": [
    "## observation\n",
    "#### The acoustic data shows very complex oscillations with variable amplitude"
   ]
  },
  {
   "cell_type": "code",
   "execution_count": 11,
   "metadata": {
    "execution": {
     "iopub.execute_input": "2023-02-04T18:27:23.867681Z",
     "iopub.status.busy": "2023-02-04T18:27:23.866915Z",
     "iopub.status.idle": "2023-02-04T18:27:26.066944Z",
     "shell.execute_reply": "2023-02-04T18:27:26.065702Z",
     "shell.execute_reply.started": "2023-02-04T18:27:23.867635Z"
    }
   },
   "outputs": [
    {
     "data": {
      "text/plain": [
       "Text(0, 0.5, 'Time To Failure')"
      ]
     },
     "execution_count": 11,
     "metadata": {},
     "output_type": "execute_result"
    },
    {
     "data": {
      "image/png": "[encoded data removed]",
      "text/plain": [
       "<Figure size 640x480 with 2 Axes>"
      ]
     },
     "metadata": {},
     "output_type": "display_data"
    }
   ],
   "source": [
    "#https://www.geeksforgeeks.org/matplotlib-axes-axes-twinx-in-python/\n",
    "fig, axis1 = plt.subplots()\n",
    "plt.title(\"Acoustic Data and Time To Failure: 1% data\")\n",
    "plt.plot(train['acoustic_data'].values[::100])     #we take stepsize 100 like 1% of 1K is 10 if we take stepsize 100 for total data than we can easily take 1%\n",
    "axis1.set_ylabel('Acoustic Data')\n",
    "axis2 = axis1.twinx()\n",
    "plt.plot(train['time_to_failure'].values[::100], color='red')\n",
    "axis2.set_ylabel('Time To Failure')"
   ]
  },
  {
   "cell_type": "markdown",
   "metadata": {},
   "source": [
    "## Observation\n",
    "#### 1) For observation we just take 1% data by taking step size 100.\n",
    "#### 2) As we can see that just before each failure there's an amplitude rise in the acoustic data. "
   ]
  },
  {
   "cell_type": "code",
   "execution_count": 12,
   "metadata": {
    "execution": {
     "iopub.execute_input": "2023-02-04T18:30:11.991000Z",
     "iopub.status.busy": "2023-02-04T18:30:11.990476Z",
     "iopub.status.idle": "2023-02-04T18:36:33.888776Z",
     "shell.execute_reply": "2023-02-04T18:36:33.886333Z",
     "shell.execute_reply.started": "2023-02-04T18:30:11.990958Z"
    }
   },
   "outputs": [
    {
     "data": {
      "text/plain": [
       "Text(0, 0.5, 'Time to failure')"
      ]
     },
     "execution_count": 12,
     "metadata": {},
     "output_type": "execute_result"
    },
    {
     "data": {
      "image/png": "[encoded data removed]",
      "text/plain": [
       "<Figure size 640x480 with 2 Axes>"
      ]
     },
     "metadata": {},
     "output_type": "display_data"
    }
   ],
   "source": [
    "fig, axis1 = plt.subplots()\n",
    "fig.suptitle('First sixty Lack rows', fontsize=14) \n",
    "plt.plot(train['acoustic_data'][:6300000])   #The 1% of train data is approximately 6291454.8 so I take 63 Lack rows\n",
    "axis1.set_ylabel('Acoustic data')\n",
    "axis2 = axis1.twinx() \n",
    "plt.plot(train['time_to_failure'][:6300000],color='r')\n",
    "axis2.set_ylabel('Time to failure')"
   ]
  },
  {
   "cell_type": "markdown",
   "metadata": {},
   "source": [
    "## observation\n",
    "#### 1) We zoomed in this 1% time plot. Now ,we are able to see that really the massive oscillation before the failure isn't quite within the last moment.\n",
    "#### 2) There are a chain of high frequency oscillations before the big one, and also some low amplitude peaks following it.\n",
    "#### 3) This is again followed by some minor oscillations before the occurrence of failure."
   ]
  },
  {
   "cell_type": "markdown",
   "metadata": {},
   "source": [
    "## EDA on Test Data"
   ]
  },
  {
   "cell_type": "code",
   "execution_count": 13,
   "metadata": {},
   "outputs": [],
   "source": [
    "test = pd.read_csv('Test\\seg_00a37e.csv')"
   ]
  },
  {
   "cell_type": "code",
   "execution_count": 14,
   "metadata": {},
   "outputs": [
    {
     "data": {
      "text/html": [
       "<div>\n",
       "<style scoped>\n",
       "    .dataframe tbody tr th:only-of-type {\n",
       "        vertical-align: middle;\n",
       "    }\n",
       "\n",
       "    .dataframe tbody tr th {\n",
       "        vertical-align: top;\n",
       "    }\n",
       "\n",
       "    .dataframe thead th {\n",
       "        text-align: right;\n",
       "    }\n",
       "</style>\n",
       "<table border=\"1\" class=\"dataframe\">\n",
       "  <thead>\n",
       "    <tr style=\"text-align: right;\">\n",
       "      <th></th>\n",
       "      <th>acoustic_data</th>\n",
       "    </tr>\n",
       "  </thead>\n",
       "  <tbody>\n",
       "    <tr>\n",
       "      <th>0</th>\n",
       "      <td>-2</td>\n",
       "    </tr>\n",
       "    <tr>\n",
       "      <th>1</th>\n",
       "      <td>1</td>\n",
       "    </tr>\n",
       "    <tr>\n",
       "      <th>2</th>\n",
       "      <td>6</td>\n",
       "    </tr>\n",
       "    <tr>\n",
       "      <th>3</th>\n",
       "      <td>7</td>\n",
       "    </tr>\n",
       "    <tr>\n",
       "      <th>4</th>\n",
       "      <td>8</td>\n",
       "    </tr>\n",
       "  </tbody>\n",
       "</table>\n",
       "</div>"
      ],
      "text/plain": [
       "   acoustic_data\n",
       "0             -2\n",
       "1              1\n",
       "2              6\n",
       "3              7\n",
       "4              8"
      ]
     },
     "execution_count": 14,
     "metadata": {},
     "output_type": "execute_result"
    }
   ],
   "source": [
    "test.head()"
   ]
  },
  {
   "cell_type": "code",
   "execution_count": 15,
   "metadata": {},
   "outputs": [
    {
     "data": {
      "text/html": [
       "<div>\n",
       "<style scoped>\n",
       "    .dataframe tbody tr th:only-of-type {\n",
       "        vertical-align: middle;\n",
       "    }\n",
       "\n",
       "    .dataframe tbody tr th {\n",
       "        vertical-align: top;\n",
       "    }\n",
       "\n",
       "    .dataframe thead th {\n",
       "        text-align: right;\n",
       "    }\n",
       "</style>\n",
       "<table border=\"1\" class=\"dataframe\">\n",
       "  <thead>\n",
       "    <tr style=\"text-align: right;\">\n",
       "      <th></th>\n",
       "      <th>acoustic_data</th>\n",
       "    </tr>\n",
       "  </thead>\n",
       "  <tbody>\n",
       "    <tr>\n",
       "      <th>count</th>\n",
       "      <td>150000.000000</td>\n",
       "    </tr>\n",
       "    <tr>\n",
       "      <th>mean</th>\n",
       "      <td>3.861213</td>\n",
       "    </tr>\n",
       "    <tr>\n",
       "      <th>std</th>\n",
       "      <td>6.927027</td>\n",
       "    </tr>\n",
       "    <tr>\n",
       "      <th>min</th>\n",
       "      <td>-138.000000</td>\n",
       "    </tr>\n",
       "    <tr>\n",
       "      <th>25%</th>\n",
       "      <td>1.000000</td>\n",
       "    </tr>\n",
       "    <tr>\n",
       "      <th>50%</th>\n",
       "      <td>4.000000</td>\n",
       "    </tr>\n",
       "    <tr>\n",
       "      <th>75%</th>\n",
       "      <td>7.000000</td>\n",
       "    </tr>\n",
       "    <tr>\n",
       "      <th>max</th>\n",
       "      <td>162.000000</td>\n",
       "    </tr>\n",
       "  </tbody>\n",
       "</table>\n",
       "</div>"
      ],
      "text/plain": [
       "       acoustic_data\n",
       "count  150000.000000\n",
       "mean        3.861213\n",
       "std         6.927027\n",
       "min      -138.000000\n",
       "25%         1.000000\n",
       "50%         4.000000\n",
       "75%         7.000000\n",
       "max       162.000000"
      ]
     },
     "execution_count": 15,
     "metadata": {},
     "output_type": "execute_result"
    }
   ],
   "source": [
    "test.describe()"
   ]
  },
  {
   "cell_type": "code",
   "execution_count": 16,
   "metadata": {},
   "outputs": [
    {
     "name": "stdout",
     "output_type": "stream",
     "text": [
      "<class 'pandas.core.frame.DataFrame'>\n",
      "RangeIndex: 150000 entries, 0 to 149999\n",
      "Data columns (total 1 columns):\n",
      " #   Column         Non-Null Count   Dtype\n",
      "---  ------         --------------   -----\n",
      " 0   acoustic_data  150000 non-null  int64\n",
      "dtypes: int64(1)\n",
      "memory usage: 1.1 MB\n"
     ]
    }
   ],
   "source": [
    "test.info()"
   ]
  },
  {
   "cell_type": "code",
   "execution_count": 17,
   "metadata": {},
   "outputs": [
    {
     "data": {
      "text/plain": [
       "<AxesSubplot:xlabel='acoustic_data', ylabel='Count'>"
      ]
     },
     "execution_count": 17,
     "metadata": {},
     "output_type": "execute_result"
    },
    {
     "data": {
      "image/png": "[encoded data removed]",
      "text/plain": [
       "<Figure size 640x480 with 1 Axes>"
      ]
     },
     "metadata": {},
     "output_type": "display_data"
    }
   ],
   "source": [
    "sns.histplot(test['acoustic_data'])"
   ]
  },
  {
   "cell_type": "markdown",
   "metadata": {},
   "source": [
    "## Observation\n",
    "#### 1) As we can see there is less outlier in our test data .\n",
    "#### 2) And most major value occur between -10 to 20"
   ]
  },
  {
   "cell_type": "code",
   "execution_count": 18,
   "metadata": {},
   "outputs": [
    {
     "data": {
      "text/plain": [
       "[<matplotlib.lines.Line2D at 0x2851beb9448>]"
      ]
     },
     "execution_count": 18,
     "metadata": {},
     "output_type": "execute_result"
    },
    {
     "data": {
      "image/png": "[encoded data removed]",
      "text/plain": [
       "<Figure size 640x480 with 1 Axes>"
      ]
     },
     "metadata": {},
     "output_type": "display_data"
    }
   ],
   "source": [
    "#https://www.geeksforgeeks.org/plotting-various-sounds-on-graphs-using-python-and-matplotlib/\n",
    "plt.plot(test['acoustic_data'])"
   ]
  },
  {
   "cell_type": "markdown",
   "metadata": {},
   "source": [
    "## Feature Engineering"
   ]
  },
  {
   "cell_type": "markdown",
   "metadata": {},
   "source": [
    "### For performing feature engineering I take help from these 2 research paper (https://www.irjet.net/archives/V8/i5/IRJET-V8I5574.pdf, https://www.mdpi.com/1424-8220/20/15/4228) and try to take all features mention in that paper."
   ]
  },
  {
   "cell_type": "code",
   "execution_count": 119,
   "metadata": {},
   "outputs": [],
   "source": [
    "seg = 629145480//150000    #I take segment size 1.5 Lack because in test data we have 1.5 lack rows in each file and in submattion file we have to single file and predict the single target value based on 1.5 lack data"
   ]
  },
  {
   "cell_type": "code",
   "execution_count": 120,
   "metadata": {},
   "outputs": [],
   "source": [
    "index = [i for i in range(seg)]"
   ]
  },
  {
   "cell_type": "code",
   "execution_count": 121,
   "metadata": {},
   "outputs": [],
   "source": [
    "Data = pd.DataFrame(index = index, columns=['Min','SWD_Min','Real_FFT_Min','Imag_FFT_Min', 'Max','SWD_Max','Real_FFT_Max','Imag_FFT_Max', 'Mean','SWD_Mean','Real_FFT_Mean','Imag_FFT_Mean', 'Median', 'Std','SWD_Std','Real_FFT_Std','Imag_FFT_Std', 'Kurtosis', 'Skew','IQR', 'Abs_Mean', 'Abs_Std', '25%', '50%', '75%', '90%', '95%', '99%', 'Var_Roll_100', 'Avg_Roll_100', 'Min_Roll_100', 'Abs_Mean_Roll_100', '1%_Roll_100', '5%_Roll_100', '10%_Roll_100', '90%_Roll_100', '95%_Roll_100', '99%_Roll_100', 'Var_Roll_1000', 'Avg_Roll_1000', 'Min_Roll_1000', 'Abs_Mean_Roll_1000', '1%_Roll_1000', '5%_Roll_1000', '10%_Roll_1000', '90%_Roll_1000', '95%_Roll_1000', '99%_Roll_1000', 'Var_Roll_10000', 'Avg_Roll_10000', 'Min_Roll_10000', 'Abs_Mean_Roll_10000', '1%_Roll_10000', '5%_Roll_10000', '10%_Roll_10000', '90%_Roll_10000', '95%_Roll_10000', '99%_Roll_10000'])\n",
    "Target = pd.DataFrame(index = index, columns = ['time_to_failure'])"
   ]
  },
  {
   "cell_type": "code",
   "execution_count": 122,
   "metadata": {},
   "outputs": [
    {
     "name": "stderr",
     "output_type": "stream",
     "text": [
      "100%|████████████████████████████████████████████████████████████████████████████| 4194/4194 [2:50:26<00:00,  2.44s/it]\n"
     ]
    }
   ],
   "source": [
    "for i in tqdm(range(seg)):\n",
    "    X = train['acoustic_data'][i*150000:(i*150000)+150000]   #this will select 1.5 lack data in each itteration \n",
    "    Y = train['time_to_failure'][i*150000:(i*150000)+150000]\n",
    "    \n",
    "    Target['time_to_failure'][i] = Y[(i*150000)+150000-1]\n",
    "    \n",
    "    #Fast Fourier Transform\n",
    "    ff_trans = fft(X)            #https://docs.scipy.org/doc/scipy/tutorial/fft.html\n",
    "    \n",
    "    #In Fast Fourier Transform we have real and imaginory data so with the help of numpy we distribute these data\n",
    "    real_FFT = np.real(ff_trans)    #https://numpy.org/doc/stable/reference/generated/numpy.real.html\n",
    "    imag_FFT = np.imag(ff_trans)    #https://numpy.org/doc/stable/reference/generated/numpy.imag.html\n",
    "    \n",
    "    #Spectral Welch Density\n",
    "    f, Pxx_den = signal.welch(X)    #https://docs.scipy.org/doc/scipy/reference/generated/scipy.signal.welch.html\n",
    "    # f : Array of sample frequencies.\n",
    "    # Pxx_den : Power spectral density or power spectrum of x.\n",
    "    \n",
    "    Data['Min'][i] = X.min()\n",
    "    Data['SWD_Min'][i] = Pxx_den.min()\n",
    "    Data['Real_FFT_Min'][i] = real_FFT.min()\n",
    "    Data['Imag_FFT_Min'][i] = imag_FFT.min()\n",
    "    \n",
    "    Data['Max'][i] = X.max()\n",
    "    Data['SWD_Max'][i] = Pxx_den.max()\n",
    "    Data['Real_FFT_Max'][i] = real_FFT.max()\n",
    "    Data['Imag_FFT_Max'][i] = imag_FFT.max()\n",
    "    \n",
    "    Data['Mean'][i] = X.mean()\n",
    "    Data['SWD_Mean'][i] = Pxx_den.mean()\n",
    "    Data['Real_FFT_Mean'][i] = real_FFT.mean()\n",
    "    Data['Imag_FFT_Mean'][i] = imag_FFT.mean()\n",
    "    \n",
    "    Data['Median'][i] = X.median()\n",
    "    \n",
    "    Data['Std'][i] = X.std()\n",
    "    Data['SWD_Std'][i] = Pxx_den.std()\n",
    "    Data['Real_FFT_Std'][i] = real_FFT.std()\n",
    "    Data['Imag_FFT_Std'][i] = imag_FFT.std()\n",
    "    \n",
    "    Data['Kurtosis'][i] = X.kurtosis()\n",
    "    \n",
    "    Data['Skew'][i] = X.skew()                                  #https://www.w3schools.com/python/pandas/ref_df_skew.asp#:~:text=Definition%20and%20Usage,the%20skew%20of%20each%20row.\n",
    "    \n",
    "    Data['IQR'][i] = stats.iqr(X, interpolation = 'midpoint')   #https://www.geeksforgeeks.org/interquartile-range-and-quartile-deviation-using-numpy-and-scipy/\n",
    "    \n",
    "    Data['Abs_Mean'][i] = np.abs(X).mean()\n",
    "    \n",
    "    Data['Abs_Std'][i] = np.abs(X).std()\n",
    "    \n",
    "    Data['25%'][i] = X.quantile(0.25)                       #https://www.geeksforgeeks.org/python-pandas-dataframe-quantile/\n",
    "    Data['50%'][i] = X.quantile(0.5)                        \n",
    "    Data['75%'][i] = X.quantile(0.75)    \n",
    "    Data['90%'][i] = X.quantile(0.90) \n",
    "    Data['95%'][i] = X.quantile(0.95) \n",
    "    Data['99%'][i] = X.quantile(0.99) \n",
    "    \n",
    "    for j in [100,1000,10000]:    #this will select window size as mention in the research paper\n",
    "        #As mention in the research paper we have to take standard deviation of rolling window\n",
    "        #And I observe that after standard deviation it have null values so I drop all none value to get right min and mean values.\n",
    "        Roll = X.rolling(j).std().dropna().values          #https://pandas.pydata.org/docs/reference/api/pandas.DataFrame.rolling.html\n",
    "        \n",
    "        Data['Var_Roll_'+str(j)][i] = variance(Roll)       #https://www.geeksforgeeks.org/python-statistics-variance/\n",
    "        \n",
    "        Data['Avg_Roll_'+str(j)][i] = Roll.mean()\n",
    "        Data['Min_Roll_'+str(j)][i] = Roll.min()\n",
    "        Data['Abs_Mean_Roll_'+str(j)][i] = np.abs(Roll).mean()\n",
    "        Data['1%_Roll_'+str(j)][i] = np.quantile(Roll, 0.01)          #https://numpy.org/doc/stable/reference/generated/numpy.quantile.html\n",
    "        Data['5%_Roll_'+str(j)][i] = np.quantile(Roll, 0.05)          #https://www.geeksforgeeks.org/numpy-quantile-in-python/\n",
    "        Data['10%_Roll_'+str(j)][i] = np.quantile(Roll, 0.10)\n",
    "        Data['90%_Roll_'+str(j)][i] = np.quantile(Roll, 0.90)\n",
    "        Data['95%_Roll_'+str(j)][i] = np.quantile(Roll, 0.95)\n",
    "        Data['99%_Roll_'+str(j)][i] = np.quantile(Roll, 0.99)\n",
    "              "
   ]
  },
  {
   "cell_type": "code",
   "execution_count": 124,
   "metadata": {},
   "outputs": [],
   "source": [
    "Data.to_csv('Data.csv', index=False)\n",
    "Target.to_csv('Target.csv', index=False)"
   ]
  },
  {
   "cell_type": "code",
   "execution_count": 125,
   "metadata": {},
   "outputs": [],
   "source": [
    "Data = pd.read_csv('Data.csv')\n",
    "Target = pd.read_csv('Target.csv')"
   ]
  },
  {
   "cell_type": "code",
   "execution_count": 126,
   "metadata": {},
   "outputs": [
    {
     "data": {
      "text/html": [
       "<div>\n",
       "<style scoped>\n",
       "    .dataframe tbody tr th:only-of-type {\n",
       "        vertical-align: middle;\n",
       "    }\n",
       "\n",
       "    .dataframe tbody tr th {\n",
       "        vertical-align: top;\n",
       "    }\n",
       "\n",
       "    .dataframe thead th {\n",
       "        text-align: right;\n",
       "    }\n",
       "</style>\n",
       "<table border=\"1\" class=\"dataframe\">\n",
       "  <thead>\n",
       "    <tr style=\"text-align: right;\">\n",
       "      <th></th>\n",
       "      <th>Min</th>\n",
       "      <th>SWD_Min</th>\n",
       "      <th>Real_FFT_Min</th>\n",
       "      <th>Imag_FFT_Min</th>\n",
       "      <th>Max</th>\n",
       "      <th>SWD_Max</th>\n",
       "      <th>Real_FFT_Max</th>\n",
       "      <th>Imag_FFT_Max</th>\n",
       "      <th>Mean</th>\n",
       "      <th>SWD_Mean</th>\n",
       "      <th>...</th>\n",
       "      <th>Var_Roll_10000</th>\n",
       "      <th>Avg_Roll_10000</th>\n",
       "      <th>Min_Roll_10000</th>\n",
       "      <th>Abs_Mean_Roll_10000</th>\n",
       "      <th>1%_Roll_10000</th>\n",
       "      <th>5%_Roll_10000</th>\n",
       "      <th>10%_Roll_10000</th>\n",
       "      <th>90%_Roll_10000</th>\n",
       "      <th>95%_Roll_10000</th>\n",
       "      <th>99%_Roll_10000</th>\n",
       "    </tr>\n",
       "  </thead>\n",
       "  <tbody>\n",
       "    <tr>\n",
       "      <th>0</th>\n",
       "      <td>-98</td>\n",
       "      <td>2.208628</td>\n",
       "      <td>-20121.154171</td>\n",
       "      <td>-23432.719433</td>\n",
       "      <td>104</td>\n",
       "      <td>1039.275736</td>\n",
       "      <td>732617.0</td>\n",
       "      <td>23432.719433</td>\n",
       "      <td>4.884113</td>\n",
       "      <td>51.986139</td>\n",
       "      <td>...</td>\n",
       "      <td>1.488245</td>\n",
       "      <td>4.431413</td>\n",
       "      <td>2.967227</td>\n",
       "      <td>4.431413</td>\n",
       "      <td>2.996281</td>\n",
       "      <td>3.215820</td>\n",
       "      <td>3.330019</td>\n",
       "      <td>5.220809</td>\n",
       "      <td>5.714547</td>\n",
       "      <td>11.092520</td>\n",
       "    </tr>\n",
       "    <tr>\n",
       "      <th>1</th>\n",
       "      <td>-154</td>\n",
       "      <td>2.261655</td>\n",
       "      <td>-31056.675076</td>\n",
       "      <td>-27236.180586</td>\n",
       "      <td>181</td>\n",
       "      <td>1889.622403</td>\n",
       "      <td>708865.0</td>\n",
       "      <td>27236.180586</td>\n",
       "      <td>4.725767</td>\n",
       "      <td>85.327728</td>\n",
       "      <td>...</td>\n",
       "      <td>9.022337</td>\n",
       "      <td>6.046480</td>\n",
       "      <td>2.927364</td>\n",
       "      <td>6.046480</td>\n",
       "      <td>2.938750</td>\n",
       "      <td>3.210603</td>\n",
       "      <td>3.336463</td>\n",
       "      <td>12.435734</td>\n",
       "      <td>13.065962</td>\n",
       "      <td>13.161216</td>\n",
       "    </tr>\n",
       "    <tr>\n",
       "      <th>2</th>\n",
       "      <td>-106</td>\n",
       "      <td>2.205778</td>\n",
       "      <td>-27654.557067</td>\n",
       "      <td>-30073.497066</td>\n",
       "      <td>140</td>\n",
       "      <td>2005.313966</td>\n",
       "      <td>735959.0</td>\n",
       "      <td>30073.497066</td>\n",
       "      <td>4.906393</td>\n",
       "      <td>95.947074</td>\n",
       "      <td>...</td>\n",
       "      <td>6.711067</td>\n",
       "      <td>6.324556</td>\n",
       "      <td>2.910946</td>\n",
       "      <td>6.324556</td>\n",
       "      <td>2.935781</td>\n",
       "      <td>3.321943</td>\n",
       "      <td>3.602466</td>\n",
       "      <td>10.143116</td>\n",
       "      <td>12.105415</td>\n",
       "      <td>14.301914</td>\n",
       "    </tr>\n",
       "    <tr>\n",
       "      <th>3</th>\n",
       "      <td>-199</td>\n",
       "      <td>2.318524</td>\n",
       "      <td>-25622.393604</td>\n",
       "      <td>-27380.321471</td>\n",
       "      <td>197</td>\n",
       "      <td>1938.509028</td>\n",
       "      <td>735336.0</td>\n",
       "      <td>27380.321471</td>\n",
       "      <td>4.902240</td>\n",
       "      <td>96.098523</td>\n",
       "      <td>...</td>\n",
       "      <td>12.568907</td>\n",
       "      <td>6.102270</td>\n",
       "      <td>3.054492</td>\n",
       "      <td>6.102270</td>\n",
       "      <td>3.105110</td>\n",
       "      <td>3.304691</td>\n",
       "      <td>3.431388</td>\n",
       "      <td>8.358638</td>\n",
       "      <td>17.451363</td>\n",
       "      <td>17.502398</td>\n",
       "    </tr>\n",
       "    <tr>\n",
       "      <th>4</th>\n",
       "      <td>-126</td>\n",
       "      <td>2.360630</td>\n",
       "      <td>-26271.075117</td>\n",
       "      <td>-27503.045280</td>\n",
       "      <td>145</td>\n",
       "      <td>1434.847536</td>\n",
       "      <td>736308.0</td>\n",
       "      <td>27503.045280</td>\n",
       "      <td>4.908720</td>\n",
       "      <td>105.962701</td>\n",
       "      <td>...</td>\n",
       "      <td>12.897299</td>\n",
       "      <td>6.314026</td>\n",
       "      <td>2.961059</td>\n",
       "      <td>6.314026</td>\n",
       "      <td>2.976511</td>\n",
       "      <td>3.046676</td>\n",
       "      <td>3.394381</td>\n",
       "      <td>11.075241</td>\n",
       "      <td>16.150095</td>\n",
       "      <td>16.510595</td>\n",
       "    </tr>\n",
       "    <tr>\n",
       "      <th>...</th>\n",
       "      <td>...</td>\n",
       "      <td>...</td>\n",
       "      <td>...</td>\n",
       "      <td>...</td>\n",
       "      <td>...</td>\n",
       "      <td>...</td>\n",
       "      <td>...</td>\n",
       "      <td>...</td>\n",
       "      <td>...</td>\n",
       "      <td>...</td>\n",
       "      <td>...</td>\n",
       "      <td>...</td>\n",
       "      <td>...</td>\n",
       "      <td>...</td>\n",
       "      <td>...</td>\n",
       "      <td>...</td>\n",
       "      <td>...</td>\n",
       "      <td>...</td>\n",
       "      <td>...</td>\n",
       "      <td>...</td>\n",
       "      <td>...</td>\n",
       "    </tr>\n",
       "    <tr>\n",
       "      <th>4189</th>\n",
       "      <td>-61</td>\n",
       "      <td>2.248021</td>\n",
       "      <td>-11476.255992</td>\n",
       "      <td>-12513.404140</td>\n",
       "      <td>76</td>\n",
       "      <td>405.589637</td>\n",
       "      <td>666952.0</td>\n",
       "      <td>12513.404140</td>\n",
       "      <td>4.446347</td>\n",
       "      <td>27.263576</td>\n",
       "      <td>...</td>\n",
       "      <td>0.441927</td>\n",
       "      <td>3.395159</td>\n",
       "      <td>2.622951</td>\n",
       "      <td>3.395159</td>\n",
       "      <td>2.631827</td>\n",
       "      <td>2.678578</td>\n",
       "      <td>2.783187</td>\n",
       "      <td>4.092579</td>\n",
       "      <td>5.175578</td>\n",
       "      <td>5.236253</td>\n",
       "    </tr>\n",
       "    <tr>\n",
       "      <th>4190</th>\n",
       "      <td>-60</td>\n",
       "      <td>2.446389</td>\n",
       "      <td>-18130.001657</td>\n",
       "      <td>-12580.819686</td>\n",
       "      <td>82</td>\n",
       "      <td>446.154699</td>\n",
       "      <td>662069.0</td>\n",
       "      <td>12580.819686</td>\n",
       "      <td>4.413793</td>\n",
       "      <td>30.522276</td>\n",
       "      <td>...</td>\n",
       "      <td>1.352407</td>\n",
       "      <td>3.786946</td>\n",
       "      <td>2.695299</td>\n",
       "      <td>3.786946</td>\n",
       "      <td>2.708719</td>\n",
       "      <td>2.722891</td>\n",
       "      <td>2.758051</td>\n",
       "      <td>5.752785</td>\n",
       "      <td>5.785309</td>\n",
       "      <td>6.035477</td>\n",
       "    </tr>\n",
       "    <tr>\n",
       "      <th>4191</th>\n",
       "      <td>-39</td>\n",
       "      <td>2.282487</td>\n",
       "      <td>-13355.685378</td>\n",
       "      <td>-8441.990516</td>\n",
       "      <td>63</td>\n",
       "      <td>185.698570</td>\n",
       "      <td>691080.0</td>\n",
       "      <td>8441.990516</td>\n",
       "      <td>4.607200</td>\n",
       "      <td>20.524882</td>\n",
       "      <td>...</td>\n",
       "      <td>0.242266</td>\n",
       "      <td>3.199095</td>\n",
       "      <td>2.658612</td>\n",
       "      <td>3.199095</td>\n",
       "      <td>2.668803</td>\n",
       "      <td>2.690775</td>\n",
       "      <td>2.719674</td>\n",
       "      <td>4.044819</td>\n",
       "      <td>4.059927</td>\n",
       "      <td>4.192546</td>\n",
       "    </tr>\n",
       "    <tr>\n",
       "      <th>4192</th>\n",
       "      <td>-97</td>\n",
       "      <td>2.185050</td>\n",
       "      <td>-17011.255638</td>\n",
       "      <td>-17213.655176</td>\n",
       "      <td>94</td>\n",
       "      <td>738.408508</td>\n",
       "      <td>669792.0</td>\n",
       "      <td>17213.655176</td>\n",
       "      <td>4.465280</td>\n",
       "      <td>33.457384</td>\n",
       "      <td>...</td>\n",
       "      <td>2.289873</td>\n",
       "      <td>3.750431</td>\n",
       "      <td>2.658483</td>\n",
       "      <td>3.750431</td>\n",
       "      <td>2.666550</td>\n",
       "      <td>2.676143</td>\n",
       "      <td>2.689235</td>\n",
       "      <td>5.759285</td>\n",
       "      <td>8.509628</td>\n",
       "      <td>8.554167</td>\n",
       "    </tr>\n",
       "    <tr>\n",
       "      <th>4193</th>\n",
       "      <td>-66</td>\n",
       "      <td>2.191760</td>\n",
       "      <td>-10895.091591</td>\n",
       "      <td>-10435.653648</td>\n",
       "      <td>64</td>\n",
       "      <td>217.468634</td>\n",
       "      <td>677760.0</td>\n",
       "      <td>10435.653648</td>\n",
       "      <td>4.518400</td>\n",
       "      <td>22.098093</td>\n",
       "      <td>...</td>\n",
       "      <td>0.460637</td>\n",
       "      <td>3.281764</td>\n",
       "      <td>2.626932</td>\n",
       "      <td>3.281764</td>\n",
       "      <td>2.651082</td>\n",
       "      <td>2.689097</td>\n",
       "      <td>2.714275</td>\n",
       "      <td>4.329645</td>\n",
       "      <td>4.871775</td>\n",
       "      <td>4.886296</td>\n",
       "    </tr>\n",
       "  </tbody>\n",
       "</table>\n",
       "<p>4194 rows × 58 columns</p>\n",
       "</div>"
      ],
      "text/plain": [
       "      Min   SWD_Min  Real_FFT_Min  Imag_FFT_Min  Max      SWD_Max  \\\n",
       "0     -98  2.208628 -20121.154171 -23432.719433  104  1039.275736   \n",
       "1    -154  2.261655 -31056.675076 -27236.180586  181  1889.622403   \n",
       "2    -106  2.205778 -27654.557067 -30073.497066  140  2005.313966   \n",
       "3    -199  2.318524 -25622.393604 -27380.321471  197  1938.509028   \n",
       "4    -126  2.360630 -26271.075117 -27503.045280  145  1434.847536   \n",
       "...   ...       ...           ...           ...  ...          ...   \n",
       "4189  -61  2.248021 -11476.255992 -12513.404140   76   405.589637   \n",
       "4190  -60  2.446389 -18130.001657 -12580.819686   82   446.154699   \n",
       "4191  -39  2.282487 -13355.685378  -8441.990516   63   185.698570   \n",
       "4192  -97  2.185050 -17011.255638 -17213.655176   94   738.408508   \n",
       "4193  -66  2.191760 -10895.091591 -10435.653648   64   217.468634   \n",
       "\n",
       "      Real_FFT_Max  Imag_FFT_Max      Mean    SWD_Mean  ...  Var_Roll_10000  \\\n",
       "0         732617.0  23432.719433  4.884113   51.986139  ...        1.488245   \n",
       "1         708865.0  27236.180586  4.725767   85.327728  ...        9.022337   \n",
       "2         735959.0  30073.497066  4.906393   95.947074  ...        6.711067   \n",
       "3         735336.0  27380.321471  4.902240   96.098523  ...       12.568907   \n",
       "4         736308.0  27503.045280  4.908720  105.962701  ...       12.897299   \n",
       "...            ...           ...       ...         ...  ...             ...   \n",
       "4189      666952.0  12513.404140  4.446347   27.263576  ...        0.441927   \n",
       "4190      662069.0  12580.819686  4.413793   30.522276  ...        1.352407   \n",
       "4191      691080.0   8441.990516  4.607200   20.524882  ...        0.242266   \n",
       "4192      669792.0  17213.655176  4.465280   33.457384  ...        2.289873   \n",
       "4193      677760.0  10435.653648  4.518400   22.098093  ...        0.460637   \n",
       "\n",
       "      Avg_Roll_10000  Min_Roll_10000  Abs_Mean_Roll_10000  1%_Roll_10000  \\\n",
       "0           4.431413        2.967227             4.431413       2.996281   \n",
       "1           6.046480        2.927364             6.046480       2.938750   \n",
       "2           6.324556        2.910946             6.324556       2.935781   \n",
       "3           6.102270        3.054492             6.102270       3.105110   \n",
       "4           6.314026        2.961059             6.314026       2.976511   \n",
       "...              ...             ...                  ...            ...   \n",
       "4189        3.395159        2.622951             3.395159       2.631827   \n",
       "4190        3.786946        2.695299             3.786946       2.708719   \n",
       "4191        3.199095        2.658612             3.199095       2.668803   \n",
       "4192        3.750431        2.658483             3.750431       2.666550   \n",
       "4193        3.281764        2.626932             3.281764       2.651082   \n",
       "\n",
       "      5%_Roll_10000  10%_Roll_10000  90%_Roll_10000  95%_Roll_10000  \\\n",
       "0          3.215820        3.330019        5.220809        5.714547   \n",
       "1          3.210603        3.336463       12.435734       13.065962   \n",
       "2          3.321943        3.602466       10.143116       12.105415   \n",
       "3          3.304691        3.431388        8.358638       17.451363   \n",
       "4          3.046676        3.394381       11.075241       16.150095   \n",
       "...             ...             ...             ...             ...   \n",
       "4189       2.678578        2.783187        4.092579        5.175578   \n",
       "4190       2.722891        2.758051        5.752785        5.785309   \n",
       "4191       2.690775        2.719674        4.044819        4.059927   \n",
       "4192       2.676143        2.689235        5.759285        8.509628   \n",
       "4193       2.689097        2.714275        4.329645        4.871775   \n",
       "\n",
       "      99%_Roll_10000  \n",
       "0          11.092520  \n",
       "1          13.161216  \n",
       "2          14.301914  \n",
       "3          17.502398  \n",
       "4          16.510595  \n",
       "...              ...  \n",
       "4189        5.236253  \n",
       "4190        6.035477  \n",
       "4191        4.192546  \n",
       "4192        8.554167  \n",
       "4193        4.886296  \n",
       "\n",
       "[4194 rows x 58 columns]"
      ]
     },
     "execution_count": 126,
     "metadata": {},
     "output_type": "execute_result"
    }
   ],
   "source": [
    "Data"
   ]
  },
  {
   "cell_type": "code",
   "execution_count": 127,
   "metadata": {},
   "outputs": [
    {
     "data": {
      "text/html": [
       "<div>\n",
       "<style scoped>\n",
       "    .dataframe tbody tr th:only-of-type {\n",
       "        vertical-align: middle;\n",
       "    }\n",
       "\n",
       "    .dataframe tbody tr th {\n",
       "        vertical-align: top;\n",
       "    }\n",
       "\n",
       "    .dataframe thead th {\n",
       "        text-align: right;\n",
       "    }\n",
       "</style>\n",
       "<table border=\"1\" class=\"dataframe\">\n",
       "  <thead>\n",
       "    <tr style=\"text-align: right;\">\n",
       "      <th></th>\n",
       "      <th>time_to_failure</th>\n",
       "    </tr>\n",
       "  </thead>\n",
       "  <tbody>\n",
       "    <tr>\n",
       "      <th>0</th>\n",
       "      <td>1.430797</td>\n",
       "    </tr>\n",
       "    <tr>\n",
       "      <th>1</th>\n",
       "      <td>1.391499</td>\n",
       "    </tr>\n",
       "    <tr>\n",
       "      <th>2</th>\n",
       "      <td>1.353196</td>\n",
       "    </tr>\n",
       "    <tr>\n",
       "      <th>3</th>\n",
       "      <td>1.313798</td>\n",
       "    </tr>\n",
       "    <tr>\n",
       "      <th>4</th>\n",
       "      <td>1.274400</td>\n",
       "    </tr>\n",
       "    <tr>\n",
       "      <th>...</th>\n",
       "      <td>...</td>\n",
       "    </tr>\n",
       "    <tr>\n",
       "      <th>4189</th>\n",
       "      <td>9.926798</td>\n",
       "    </tr>\n",
       "    <tr>\n",
       "      <th>4190</th>\n",
       "      <td>9.887500</td>\n",
       "    </tr>\n",
       "    <tr>\n",
       "      <th>4191</th>\n",
       "      <td>9.849197</td>\n",
       "    </tr>\n",
       "    <tr>\n",
       "      <th>4192</th>\n",
       "      <td>9.809799</td>\n",
       "    </tr>\n",
       "    <tr>\n",
       "      <th>4193</th>\n",
       "      <td>9.771496</td>\n",
       "    </tr>\n",
       "  </tbody>\n",
       "</table>\n",
       "<p>4194 rows × 1 columns</p>\n",
       "</div>"
      ],
      "text/plain": [
       "      time_to_failure\n",
       "0            1.430797\n",
       "1            1.391499\n",
       "2            1.353196\n",
       "3            1.313798\n",
       "4            1.274400\n",
       "...               ...\n",
       "4189         9.926798\n",
       "4190         9.887500\n",
       "4191         9.849197\n",
       "4192         9.809799\n",
       "4193         9.771496\n",
       "\n",
       "[4194 rows x 1 columns]"
      ]
     },
     "execution_count": 127,
     "metadata": {},
     "output_type": "execute_result"
    }
   ],
   "source": [
    "Target"
   ]
  },
  {
   "cell_type": "markdown",
   "metadata": {},
   "source": [
    "### Loading Required libaries"
   ]
  },
  {
   "cell_type": "code",
   "execution_count": 128,
   "metadata": {},
   "outputs": [],
   "source": [
    "from sklearn.preprocessing import StandardScaler\n",
    "from sklearn.ensemble import RandomForestRegressor\n",
    "from sklearn.model_selection import GridSearchCV\n",
    "from scipy.stats import randint as sp_randint\n",
    "from scipy.stats import uniform\n",
    "from sklearn.model_selection import RandomizedSearchCV\n",
    "import xgboost as xgb\n",
    "from sklearn.model_selection import TimeSeriesSplit\n",
    "from sklearn.metrics import mean_absolute_error \n",
    "from sklearn.svm import SVR\n",
    "import lightgbm as lgb \n",
    "from sklearn.ensemble import AdaBoostRegressor\n",
    "from sklearn.linear_model import Ridge\n",
    "from sklearn.decomposition import PCA"
   ]
  },
  {
   "cell_type": "markdown",
   "metadata": {},
   "source": [
    "### Standarization"
   ]
  },
  {
   "cell_type": "code",
   "execution_count": 188,
   "metadata": {},
   "outputs": [],
   "source": [
    "scaler = StandardScaler()\n",
    "scaler.fit(Data)\n",
    "X_train_scaled = pd.DataFrame(scaler.transform(Data), columns=Data.columns)"
   ]
  },
  {
   "cell_type": "code",
   "execution_count": 189,
   "metadata": {},
   "outputs": [
    {
     "data": {
      "text/html": [
       "<div>\n",
       "<style scoped>\n",
       "    .dataframe tbody tr th:only-of-type {\n",
       "        vertical-align: middle;\n",
       "    }\n",
       "\n",
       "    .dataframe tbody tr th {\n",
       "        vertical-align: top;\n",
       "    }\n",
       "\n",
       "    .dataframe thead th {\n",
       "        text-align: right;\n",
       "    }\n",
       "</style>\n",
       "<table border=\"1\" class=\"dataframe\">\n",
       "  <thead>\n",
       "    <tr style=\"text-align: right;\">\n",
       "      <th></th>\n",
       "      <th>Min</th>\n",
       "      <th>SWD_Min</th>\n",
       "      <th>Real_FFT_Min</th>\n",
       "      <th>Imag_FFT_Min</th>\n",
       "      <th>Max</th>\n",
       "      <th>SWD_Max</th>\n",
       "      <th>Real_FFT_Max</th>\n",
       "      <th>Imag_FFT_Max</th>\n",
       "      <th>Mean</th>\n",
       "      <th>SWD_Mean</th>\n",
       "      <th>...</th>\n",
       "      <th>Var_Roll_10000</th>\n",
       "      <th>Avg_Roll_10000</th>\n",
       "      <th>Min_Roll_10000</th>\n",
       "      <th>Abs_Mean_Roll_10000</th>\n",
       "      <th>1%_Roll_10000</th>\n",
       "      <th>5%_Roll_10000</th>\n",
       "      <th>10%_Roll_10000</th>\n",
       "      <th>90%_Roll_10000</th>\n",
       "      <th>95%_Roll_10000</th>\n",
       "      <th>99%_Roll_10000</th>\n",
       "    </tr>\n",
       "  </thead>\n",
       "  <tbody>\n",
       "    <tr>\n",
       "      <th>0</th>\n",
       "      <td>0.193218</td>\n",
       "      <td>-0.761652</td>\n",
       "      <td>0.156736</td>\n",
       "      <td>0.085419</td>\n",
       "      <td>-0.218194</td>\n",
       "      <td>-0.079257</td>\n",
       "      <td>1.424140</td>\n",
       "      <td>-0.085419</td>\n",
       "      <td>1.424140</td>\n",
       "      <td>-0.080484</td>\n",
       "      <td>...</td>\n",
       "      <td>-0.075728</td>\n",
       "      <td>-0.316126</td>\n",
       "      <td>0.214505</td>\n",
       "      <td>-0.316126</td>\n",
       "      <td>0.094451</td>\n",
       "      <td>0.239306</td>\n",
       "      <td>0.124102</td>\n",
       "      <td>-0.527676</td>\n",
       "      <td>-0.260035</td>\n",
       "      <td>-0.117230</td>\n",
       "    </tr>\n",
       "    <tr>\n",
       "      <th>1</th>\n",
       "      <td>-0.018037</td>\n",
       "      <td>-0.274848</td>\n",
       "      <td>-0.222118</td>\n",
       "      <td>-0.042859</td>\n",
       "      <td>0.063936</td>\n",
       "      <td>-0.057610</td>\n",
       "      <td>0.805716</td>\n",
       "      <td>0.042859</td>\n",
       "      <td>0.805716</td>\n",
       "      <td>-0.065211</td>\n",
       "      <td>...</td>\n",
       "      <td>-0.068192</td>\n",
       "      <td>0.146370</td>\n",
       "      <td>0.056884</td>\n",
       "      <td>0.146370</td>\n",
       "      <td>-0.103131</td>\n",
       "      <td>0.225928</td>\n",
       "      <td>0.137519</td>\n",
       "      <td>0.532690</td>\n",
       "      <td>-0.032871</td>\n",
       "      <td>-0.054265</td>\n",
       "    </tr>\n",
       "    <tr>\n",
       "      <th>2</th>\n",
       "      <td>0.163039</td>\n",
       "      <td>-0.787817</td>\n",
       "      <td>-0.104254</td>\n",
       "      <td>-0.138553</td>\n",
       "      <td>-0.086289</td>\n",
       "      <td>-0.054665</td>\n",
       "      <td>1.511155</td>\n",
       "      <td>0.138553</td>\n",
       "      <td>1.511155</td>\n",
       "      <td>-0.060346</td>\n",
       "      <td>...</td>\n",
       "      <td>-0.070504</td>\n",
       "      <td>0.226000</td>\n",
       "      <td>-0.008038</td>\n",
       "      <td>0.226000</td>\n",
       "      <td>-0.113328</td>\n",
       "      <td>0.511423</td>\n",
       "      <td>0.691353</td>\n",
       "      <td>0.195748</td>\n",
       "      <td>-0.062553</td>\n",
       "      <td>-0.019546</td>\n",
       "    </tr>\n",
       "    <tr>\n",
       "      <th>3</th>\n",
       "      <td>-0.187796</td>\n",
       "      <td>0.247219</td>\n",
       "      <td>-0.033851</td>\n",
       "      <td>-0.047721</td>\n",
       "      <td>0.122560</td>\n",
       "      <td>-0.056365</td>\n",
       "      <td>1.494934</td>\n",
       "      <td>0.047721</td>\n",
       "      <td>1.494934</td>\n",
       "      <td>-0.060277</td>\n",
       "      <td>...</td>\n",
       "      <td>-0.064644</td>\n",
       "      <td>0.162346</td>\n",
       "      <td>0.559566</td>\n",
       "      <td>0.162346</td>\n",
       "      <td>0.468210</td>\n",
       "      <td>0.467186</td>\n",
       "      <td>0.335159</td>\n",
       "      <td>-0.066514</td>\n",
       "      <td>0.102640</td>\n",
       "      <td>0.077868</td>\n",
       "    </tr>\n",
       "    <tr>\n",
       "      <th>4</th>\n",
       "      <td>0.087590</td>\n",
       "      <td>0.633760</td>\n",
       "      <td>-0.056324</td>\n",
       "      <td>-0.051860</td>\n",
       "      <td>-0.067969</td>\n",
       "      <td>-0.069187</td>\n",
       "      <td>1.520242</td>\n",
       "      <td>0.051860</td>\n",
       "      <td>1.520242</td>\n",
       "      <td>-0.055758</td>\n",
       "      <td>...</td>\n",
       "      <td>-0.064316</td>\n",
       "      <td>0.222985</td>\n",
       "      <td>0.190118</td>\n",
       "      <td>0.222985</td>\n",
       "      <td>0.026554</td>\n",
       "      <td>-0.194405</td>\n",
       "      <td>0.258109</td>\n",
       "      <td>0.332740</td>\n",
       "      <td>0.062430</td>\n",
       "      <td>0.047680</td>\n",
       "    </tr>\n",
       "    <tr>\n",
       "      <th>...</th>\n",
       "      <td>...</td>\n",
       "      <td>...</td>\n",
       "      <td>...</td>\n",
       "      <td>...</td>\n",
       "      <td>...</td>\n",
       "      <td>...</td>\n",
       "      <td>...</td>\n",
       "      <td>...</td>\n",
       "      <td>...</td>\n",
       "      <td>...</td>\n",
       "      <td>...</td>\n",
       "      <td>...</td>\n",
       "      <td>...</td>\n",
       "      <td>...</td>\n",
       "      <td>...</td>\n",
       "      <td>...</td>\n",
       "      <td>...</td>\n",
       "      <td>...</td>\n",
       "      <td>...</td>\n",
       "      <td>...</td>\n",
       "      <td>...</td>\n",
       "    </tr>\n",
       "    <tr>\n",
       "      <th>4189</th>\n",
       "      <td>0.332798</td>\n",
       "      <td>-0.400014</td>\n",
       "      <td>0.456233</td>\n",
       "      <td>0.453691</td>\n",
       "      <td>-0.320786</td>\n",
       "      <td>-0.095388</td>\n",
       "      <td>-0.285562</td>\n",
       "      <td>-0.453691</td>\n",
       "      <td>-0.285562</td>\n",
       "      <td>-0.091809</td>\n",
       "      <td>...</td>\n",
       "      <td>-0.076774</td>\n",
       "      <td>-0.612871</td>\n",
       "      <td>-1.146811</td>\n",
       "      <td>-0.612871</td>\n",
       "      <td>-1.157218</td>\n",
       "      <td>-1.138268</td>\n",
       "      <td>-1.014435</td>\n",
       "      <td>-0.693490</td>\n",
       "      <td>-0.276689</td>\n",
       "      <td>-0.295478</td>\n",
       "    </tr>\n",
       "    <tr>\n",
       "      <th>4190</th>\n",
       "      <td>0.336570</td>\n",
       "      <td>1.421050</td>\n",
       "      <td>0.225718</td>\n",
       "      <td>0.451418</td>\n",
       "      <td>-0.298802</td>\n",
       "      <td>-0.094355</td>\n",
       "      <td>-0.412699</td>\n",
       "      <td>-0.451418</td>\n",
       "      <td>-0.412699</td>\n",
       "      <td>-0.090316</td>\n",
       "      <td>...</td>\n",
       "      <td>-0.075864</td>\n",
       "      <td>-0.500678</td>\n",
       "      <td>-0.860735</td>\n",
       "      <td>-0.500678</td>\n",
       "      <td>-0.893143</td>\n",
       "      <td>-1.024641</td>\n",
       "      <td>-1.066770</td>\n",
       "      <td>-0.449492</td>\n",
       "      <td>-0.257848</td>\n",
       "      <td>-0.271152</td>\n",
       "    </tr>\n",
       "    <tr>\n",
       "      <th>4191</th>\n",
       "      <td>0.415791</td>\n",
       "      <td>-0.083608</td>\n",
       "      <td>0.391121</td>\n",
       "      <td>0.591007</td>\n",
       "      <td>-0.368418</td>\n",
       "      <td>-0.100986</td>\n",
       "      <td>0.342653</td>\n",
       "      <td>-0.591007</td>\n",
       "      <td>0.342653</td>\n",
       "      <td>-0.094896</td>\n",
       "      <td>...</td>\n",
       "      <td>-0.076974</td>\n",
       "      <td>-0.669016</td>\n",
       "      <td>-1.005802</td>\n",
       "      <td>-0.669016</td>\n",
       "      <td>-1.030229</td>\n",
       "      <td>-1.106992</td>\n",
       "      <td>-1.146673</td>\n",
       "      <td>-0.700509</td>\n",
       "      <td>-0.311163</td>\n",
       "      <td>-0.327246</td>\n",
       "    </tr>\n",
       "    <tr>\n",
       "      <th>4192</th>\n",
       "      <td>0.196991</td>\n",
       "      <td>-0.978099</td>\n",
       "      <td>0.264477</td>\n",
       "      <td>0.295167</td>\n",
       "      <td>-0.254834</td>\n",
       "      <td>-0.086916</td>\n",
       "      <td>-0.211617</td>\n",
       "      <td>-0.295167</td>\n",
       "      <td>-0.211617</td>\n",
       "      <td>-0.088972</td>\n",
       "      <td>...</td>\n",
       "      <td>-0.074926</td>\n",
       "      <td>-0.511134</td>\n",
       "      <td>-1.006311</td>\n",
       "      <td>-0.511134</td>\n",
       "      <td>-1.037968</td>\n",
       "      <td>-1.144511</td>\n",
       "      <td>-1.210049</td>\n",
       "      <td>-0.448537</td>\n",
       "      <td>-0.173665</td>\n",
       "      <td>-0.194490</td>\n",
       "    </tr>\n",
       "    <tr>\n",
       "      <th>4193</th>\n",
       "      <td>0.313936</td>\n",
       "      <td>-0.916504</td>\n",
       "      <td>0.476367</td>\n",
       "      <td>0.523767</td>\n",
       "      <td>-0.364754</td>\n",
       "      <td>-0.100177</td>\n",
       "      <td>-0.004157</td>\n",
       "      <td>-0.523767</td>\n",
       "      <td>-0.004157</td>\n",
       "      <td>-0.094175</td>\n",
       "      <td>...</td>\n",
       "      <td>-0.076756</td>\n",
       "      <td>-0.645343</td>\n",
       "      <td>-1.131070</td>\n",
       "      <td>-0.645343</td>\n",
       "      <td>-1.091091</td>\n",
       "      <td>-1.111295</td>\n",
       "      <td>-1.157913</td>\n",
       "      <td>-0.658648</td>\n",
       "      <td>-0.286077</td>\n",
       "      <td>-0.306130</td>\n",
       "    </tr>\n",
       "  </tbody>\n",
       "</table>\n",
       "<p>4194 rows × 58 columns</p>\n",
       "</div>"
      ],
      "text/plain": [
       "           Min   SWD_Min  Real_FFT_Min  Imag_FFT_Min       Max   SWD_Max  \\\n",
       "0     0.193218 -0.761652      0.156736      0.085419 -0.218194 -0.079257   \n",
       "1    -0.018037 -0.274848     -0.222118     -0.042859  0.063936 -0.057610   \n",
       "2     0.163039 -0.787817     -0.104254     -0.138553 -0.086289 -0.054665   \n",
       "3    -0.187796  0.247219     -0.033851     -0.047721  0.122560 -0.056365   \n",
       "4     0.087590  0.633760     -0.056324     -0.051860 -0.067969 -0.069187   \n",
       "...        ...       ...           ...           ...       ...       ...   \n",
       "4189  0.332798 -0.400014      0.456233      0.453691 -0.320786 -0.095388   \n",
       "4190  0.336570  1.421050      0.225718      0.451418 -0.298802 -0.094355   \n",
       "4191  0.415791 -0.083608      0.391121      0.591007 -0.368418 -0.100986   \n",
       "4192  0.196991 -0.978099      0.264477      0.295167 -0.254834 -0.086916   \n",
       "4193  0.313936 -0.916504      0.476367      0.523767 -0.364754 -0.100177   \n",
       "\n",
       "      Real_FFT_Max  Imag_FFT_Max      Mean  SWD_Mean  ...  Var_Roll_10000  \\\n",
       "0         1.424140     -0.085419  1.424140 -0.080484  ...       -0.075728   \n",
       "1         0.805716      0.042859  0.805716 -0.065211  ...       -0.068192   \n",
       "2         1.511155      0.138553  1.511155 -0.060346  ...       -0.070504   \n",
       "3         1.494934      0.047721  1.494934 -0.060277  ...       -0.064644   \n",
       "4         1.520242      0.051860  1.520242 -0.055758  ...       -0.064316   \n",
       "...            ...           ...       ...       ...  ...             ...   \n",
       "4189     -0.285562     -0.453691 -0.285562 -0.091809  ...       -0.076774   \n",
       "4190     -0.412699     -0.451418 -0.412699 -0.090316  ...       -0.075864   \n",
       "4191      0.342653     -0.591007  0.342653 -0.094896  ...       -0.076974   \n",
       "4192     -0.211617     -0.295167 -0.211617 -0.088972  ...       -0.074926   \n",
       "4193     -0.004157     -0.523767 -0.004157 -0.094175  ...       -0.076756   \n",
       "\n",
       "      Avg_Roll_10000  Min_Roll_10000  Abs_Mean_Roll_10000  1%_Roll_10000  \\\n",
       "0          -0.316126        0.214505            -0.316126       0.094451   \n",
       "1           0.146370        0.056884             0.146370      -0.103131   \n",
       "2           0.226000       -0.008038             0.226000      -0.113328   \n",
       "3           0.162346        0.559566             0.162346       0.468210   \n",
       "4           0.222985        0.190118             0.222985       0.026554   \n",
       "...              ...             ...                  ...            ...   \n",
       "4189       -0.612871       -1.146811            -0.612871      -1.157218   \n",
       "4190       -0.500678       -0.860735            -0.500678      -0.893143   \n",
       "4191       -0.669016       -1.005802            -0.669016      -1.030229   \n",
       "4192       -0.511134       -1.006311            -0.511134      -1.037968   \n",
       "4193       -0.645343       -1.131070            -0.645343      -1.091091   \n",
       "\n",
       "      5%_Roll_10000  10%_Roll_10000  90%_Roll_10000  95%_Roll_10000  \\\n",
       "0          0.239306        0.124102       -0.527676       -0.260035   \n",
       "1          0.225928        0.137519        0.532690       -0.032871   \n",
       "2          0.511423        0.691353        0.195748       -0.062553   \n",
       "3          0.467186        0.335159       -0.066514        0.102640   \n",
       "4         -0.194405        0.258109        0.332740        0.062430   \n",
       "...             ...             ...             ...             ...   \n",
       "4189      -1.138268       -1.014435       -0.693490       -0.276689   \n",
       "4190      -1.024641       -1.066770       -0.449492       -0.257848   \n",
       "4191      -1.106992       -1.146673       -0.700509       -0.311163   \n",
       "4192      -1.144511       -1.210049       -0.448537       -0.173665   \n",
       "4193      -1.111295       -1.157913       -0.658648       -0.286077   \n",
       "\n",
       "      99%_Roll_10000  \n",
       "0          -0.117230  \n",
       "1          -0.054265  \n",
       "2          -0.019546  \n",
       "3           0.077868  \n",
       "4           0.047680  \n",
       "...              ...  \n",
       "4189       -0.295478  \n",
       "4190       -0.271152  \n",
       "4191       -0.327246  \n",
       "4192       -0.194490  \n",
       "4193       -0.306130  \n",
       "\n",
       "[4194 rows x 58 columns]"
      ]
     },
     "execution_count": 189,
     "metadata": {},
     "output_type": "execute_result"
    }
   ],
   "source": [
    "X_train_scaled"
   ]
  },
  {
   "cell_type": "markdown",
   "metadata": {},
   "source": [
    "### Hyperparameter Tunning"
   ]
  },
  {
   "cell_type": "code",
   "execution_count": 190,
   "metadata": {},
   "outputs": [
    {
     "name": "stdout",
     "output_type": "stream",
     "text": [
      "Best Parameter {'max_depth': 5, 'min_samples_leaf': 63, 'min_samples_split': 144, 'n_estimators': 55}\n",
      " Score -2.2249510994696533\n"
     ]
    }
   ],
   "source": [
    "param_dist = {\"n_estimators\":sp_randint(1,60),\n",
    "              \"max_depth\": sp_randint(1,15),\n",
    "              \"min_samples_split\": sp_randint(1,190),\n",
    "              \"min_samples_leaf\": sp_randint(1,65)}\n",
    "\n",
    "clf = RandomForestRegressor(random_state=25,n_jobs=-1)\n",
    "\n",
    "#https://stackoverflow.com/questions/51527725/gridsearchcv-scoring-on-mean-absolute-error\n",
    "\n",
    "rf_random = RandomizedSearchCV(clf, param_distributions=param_dist, n_iter=5, cv=10, scoring='neg_mean_absolute_error', random_state=25, return_train_score = True)\n",
    "\n",
    "rf_random.fit(X_train_scaled,Target.values.ravel())\n",
    "\n",
    "print(\"Best Parameter {}\\n Score {}\".format(rf_random.best_params_, rf_random.best_score_))"
   ]
  },
  {
   "cell_type": "markdown",
   "metadata": {},
   "source": [
    "### Random Forest"
   ]
  },
  {
   "cell_type": "code",
   "execution_count": 191,
   "metadata": {},
   "outputs": [
    {
     "data": {
      "text/plain": [
       "RandomForestRegressor(max_depth=5, min_samples_leaf=63, min_samples_split=144,\n",
       "                      n_estimators=55, n_jobs=-1, random_state=25)"
      ]
     },
     "execution_count": 191,
     "metadata": {},
     "output_type": "execute_result"
    }
   ],
   "source": [
    "clf = RandomForestRegressor(max_depth= rf_random.best_estimator_.max_depth,min_samples_leaf = rf_random.best_estimator_.min_samples_leaf,\n",
    "                            min_samples_split = rf_random.best_estimator_.min_samples_split,\n",
    "                            n_estimators= rf_random.best_estimator_.n_estimators, n_jobs=-1, random_state=25)\n",
    "\n",
    "clf.fit(X_train_scaled,Target.values.ravel())"
   ]
  },
  {
   "cell_type": "markdown",
   "metadata": {},
   "source": [
    "### MAE"
   ]
  },
  {
   "cell_type": "code",
   "execution_count": 192,
   "metadata": {},
   "outputs": [
    {
     "name": "stdout",
     "output_type": "stream",
     "text": [
      "1.9760573854333796\n"
     ]
    }
   ],
   "source": [
    "y_pred = clf.predict(X_train_scaled)\n",
    "test_mae = mean_absolute_error(Target.values.ravel(), y_pred) \n",
    "print(test_mae)"
   ]
  },
  {
   "cell_type": "markdown",
   "metadata": {},
   "source": [
    "### Feature Importance"
   ]
  },
  {
   "cell_type": "code",
   "execution_count": 193,
   "metadata": {},
   "outputs": [
    {
     "data": {
      "image/png": "[encoded data removed]",
      "text/plain": [
       "<Figure size 1000x1200 with 1 Axes>"
      ]
     },
     "metadata": {},
     "output_type": "display_data"
    }
   ],
   "source": [
    "features = X_train_scaled.columns\n",
    "importances = clf.feature_importances_\n",
    "indices = (np.argsort(importances))[-25:]\n",
    "plt.figure(figsize=(10,12))\n",
    "plt.title('Feature Importances')\n",
    "plt.barh(range(len(indices)), importances[indices], color='r', align='center')\n",
    "plt.yticks(range(len(indices)), [features[i] for i in indices])\n",
    "plt.xlabel('Relative Importance')\n",
    "plt.show()"
   ]
  },
  {
   "cell_type": "markdown",
   "metadata": {},
   "source": [
    "### With Top Features"
   ]
  },
  {
   "cell_type": "code",
   "execution_count": 194,
   "metadata": {},
   "outputs": [],
   "source": [
    "Top_Data = X_train_scaled[['10%_Roll_100','10%_Roll_1000', '5%_Roll_100', '5%_Roll_10000', '5%_Roll_1000', 'Mean', 'Real_FFT_Max', '10%_Roll_10000']]"
   ]
  },
  {
   "cell_type": "code",
   "execution_count": 195,
   "metadata": {},
   "outputs": [
    {
     "data": {
      "text/html": [
       "<div>\n",
       "<style scoped>\n",
       "    .dataframe tbody tr th:only-of-type {\n",
       "        vertical-align: middle;\n",
       "    }\n",
       "\n",
       "    .dataframe tbody tr th {\n",
       "        vertical-align: top;\n",
       "    }\n",
       "\n",
       "    .dataframe thead th {\n",
       "        text-align: right;\n",
       "    }\n",
       "</style>\n",
       "<table border=\"1\" class=\"dataframe\">\n",
       "  <thead>\n",
       "    <tr style=\"text-align: right;\">\n",
       "      <th></th>\n",
       "      <th>10%_Roll_100</th>\n",
       "      <th>10%_Roll_1000</th>\n",
       "      <th>5%_Roll_100</th>\n",
       "      <th>5%_Roll_10000</th>\n",
       "      <th>5%_Roll_1000</th>\n",
       "      <th>Mean</th>\n",
       "      <th>Real_FFT_Max</th>\n",
       "      <th>10%_Roll_10000</th>\n",
       "    </tr>\n",
       "  </thead>\n",
       "  <tbody>\n",
       "    <tr>\n",
       "      <th>0</th>\n",
       "      <td>0.125037</td>\n",
       "      <td>0.185906</td>\n",
       "      <td>0.138030</td>\n",
       "      <td>0.239306</td>\n",
       "      <td>0.184599</td>\n",
       "      <td>1.424140</td>\n",
       "      <td>1.424140</td>\n",
       "      <td>0.124102</td>\n",
       "    </tr>\n",
       "    <tr>\n",
       "      <th>1</th>\n",
       "      <td>0.131754</td>\n",
       "      <td>-0.141342</td>\n",
       "      <td>0.141753</td>\n",
       "      <td>0.225928</td>\n",
       "      <td>-0.151082</td>\n",
       "      <td>0.805716</td>\n",
       "      <td>0.805716</td>\n",
       "      <td>0.137519</td>\n",
       "    </tr>\n",
       "    <tr>\n",
       "      <th>2</th>\n",
       "      <td>0.783366</td>\n",
       "      <td>0.666245</td>\n",
       "      <td>0.856220</td>\n",
       "      <td>0.511423</td>\n",
       "      <td>0.769589</td>\n",
       "      <td>1.511155</td>\n",
       "      <td>1.511155</td>\n",
       "      <td>0.691353</td>\n",
       "    </tr>\n",
       "    <tr>\n",
       "      <th>3</th>\n",
       "      <td>0.309285</td>\n",
       "      <td>0.210893</td>\n",
       "      <td>0.375361</td>\n",
       "      <td>0.467186</td>\n",
       "      <td>0.296334</td>\n",
       "      <td>1.494934</td>\n",
       "      <td>1.494934</td>\n",
       "      <td>0.335159</td>\n",
       "    </tr>\n",
       "    <tr>\n",
       "      <th>4</th>\n",
       "      <td>0.318174</td>\n",
       "      <td>0.366969</td>\n",
       "      <td>0.319221</td>\n",
       "      <td>-0.194405</td>\n",
       "      <td>0.319527</td>\n",
       "      <td>1.520242</td>\n",
       "      <td>1.520242</td>\n",
       "      <td>0.258109</td>\n",
       "    </tr>\n",
       "    <tr>\n",
       "      <th>...</th>\n",
       "      <td>...</td>\n",
       "      <td>...</td>\n",
       "      <td>...</td>\n",
       "      <td>...</td>\n",
       "      <td>...</td>\n",
       "      <td>...</td>\n",
       "      <td>...</td>\n",
       "      <td>...</td>\n",
       "    </tr>\n",
       "    <tr>\n",
       "      <th>4189</th>\n",
       "      <td>-1.171539</td>\n",
       "      <td>-1.133697</td>\n",
       "      <td>-1.113702</td>\n",
       "      <td>-1.138268</td>\n",
       "      <td>-1.186834</td>\n",
       "      <td>-0.285562</td>\n",
       "      <td>-0.285562</td>\n",
       "      <td>-1.014435</td>\n",
       "    </tr>\n",
       "    <tr>\n",
       "      <th>4190</th>\n",
       "      <td>-1.257608</td>\n",
       "      <td>-1.226826</td>\n",
       "      <td>-1.259487</td>\n",
       "      <td>-1.024641</td>\n",
       "      <td>-1.301656</td>\n",
       "      <td>-0.412699</td>\n",
       "      <td>-0.412699</td>\n",
       "      <td>-1.066770</td>\n",
       "    </tr>\n",
       "    <tr>\n",
       "      <th>4191</th>\n",
       "      <td>-1.475390</td>\n",
       "      <td>-1.235227</td>\n",
       "      <td>-1.537123</td>\n",
       "      <td>-1.106992</td>\n",
       "      <td>-1.344652</td>\n",
       "      <td>0.342653</td>\n",
       "      <td>0.342653</td>\n",
       "      <td>-1.146673</td>\n",
       "    </tr>\n",
       "    <tr>\n",
       "      <th>4192</th>\n",
       "      <td>-1.070285</td>\n",
       "      <td>-1.013170</td>\n",
       "      <td>-1.044627</td>\n",
       "      <td>-1.144511</td>\n",
       "      <td>-0.975015</td>\n",
       "      <td>-0.211617</td>\n",
       "      <td>-0.211617</td>\n",
       "      <td>-1.210049</td>\n",
       "    </tr>\n",
       "    <tr>\n",
       "      <th>4193</th>\n",
       "      <td>-1.250489</td>\n",
       "      <td>-1.291550</td>\n",
       "      <td>-1.255325</td>\n",
       "      <td>-1.111295</td>\n",
       "      <td>-1.292955</td>\n",
       "      <td>-0.004157</td>\n",
       "      <td>-0.004157</td>\n",
       "      <td>-1.157913</td>\n",
       "    </tr>\n",
       "  </tbody>\n",
       "</table>\n",
       "<p>4194 rows × 8 columns</p>\n",
       "</div>"
      ],
      "text/plain": [
       "      10%_Roll_100  10%_Roll_1000  5%_Roll_100  5%_Roll_10000  5%_Roll_1000  \\\n",
       "0         0.125037       0.185906     0.138030       0.239306      0.184599   \n",
       "1         0.131754      -0.141342     0.141753       0.225928     -0.151082   \n",
       "2         0.783366       0.666245     0.856220       0.511423      0.769589   \n",
       "3         0.309285       0.210893     0.375361       0.467186      0.296334   \n",
       "4         0.318174       0.366969     0.319221      -0.194405      0.319527   \n",
       "...            ...            ...          ...            ...           ...   \n",
       "4189     -1.171539      -1.133697    -1.113702      -1.138268     -1.186834   \n",
       "4190     -1.257608      -1.226826    -1.259487      -1.024641     -1.301656   \n",
       "4191     -1.475390      -1.235227    -1.537123      -1.106992     -1.344652   \n",
       "4192     -1.070285      -1.013170    -1.044627      -1.144511     -0.975015   \n",
       "4193     -1.250489      -1.291550    -1.255325      -1.111295     -1.292955   \n",
       "\n",
       "          Mean  Real_FFT_Max  10%_Roll_10000  \n",
       "0     1.424140      1.424140        0.124102  \n",
       "1     0.805716      0.805716        0.137519  \n",
       "2     1.511155      1.511155        0.691353  \n",
       "3     1.494934      1.494934        0.335159  \n",
       "4     1.520242      1.520242        0.258109  \n",
       "...        ...           ...             ...  \n",
       "4189 -0.285562     -0.285562       -1.014435  \n",
       "4190 -0.412699     -0.412699       -1.066770  \n",
       "4191  0.342653      0.342653       -1.146673  \n",
       "4192 -0.211617     -0.211617       -1.210049  \n",
       "4193 -0.004157     -0.004157       -1.157913  \n",
       "\n",
       "[4194 rows x 8 columns]"
      ]
     },
     "execution_count": 195,
     "metadata": {},
     "output_type": "execute_result"
    }
   ],
   "source": [
    "Top_Data"
   ]
  },
  {
   "cell_type": "markdown",
   "metadata": {},
   "source": [
    "## Splitting Time Series Data"
   ]
  },
  {
   "cell_type": "code",
   "execution_count": 196,
   "metadata": {},
   "outputs": [],
   "source": [
    "#https://medium.com/@Stan_DS/timeseries-split-with-sklearn-tips-8162c83612b9\n",
    "tscv = TimeSeriesSplit(n_splits = 3)\n",
    "for train_index, test_index in tscv.split(Top_Data):\n",
    "    X_train, X_test = Top_Data.iloc[train_index, :], Top_Data.iloc[test_index,:]\n",
    "    y_train, y_test = Target.iloc[train_index], Target.iloc[test_index]"
   ]
  },
  {
   "cell_type": "code",
   "execution_count": 197,
   "metadata": {},
   "outputs": [
    {
     "data": {
      "text/html": [
       "<div>\n",
       "<style scoped>\n",
       "    .dataframe tbody tr th:only-of-type {\n",
       "        vertical-align: middle;\n",
       "    }\n",
       "\n",
       "    .dataframe tbody tr th {\n",
       "        vertical-align: top;\n",
       "    }\n",
       "\n",
       "    .dataframe thead th {\n",
       "        text-align: right;\n",
       "    }\n",
       "</style>\n",
       "<table border=\"1\" class=\"dataframe\">\n",
       "  <thead>\n",
       "    <tr style=\"text-align: right;\">\n",
       "      <th></th>\n",
       "      <th>10%_Roll_100</th>\n",
       "      <th>10%_Roll_1000</th>\n",
       "      <th>5%_Roll_100</th>\n",
       "      <th>5%_Roll_10000</th>\n",
       "      <th>5%_Roll_1000</th>\n",
       "      <th>Mean</th>\n",
       "      <th>Real_FFT_Max</th>\n",
       "      <th>10%_Roll_10000</th>\n",
       "    </tr>\n",
       "  </thead>\n",
       "  <tbody>\n",
       "    <tr>\n",
       "      <th>0</th>\n",
       "      <td>0.125037</td>\n",
       "      <td>0.185906</td>\n",
       "      <td>0.138030</td>\n",
       "      <td>0.239306</td>\n",
       "      <td>0.184599</td>\n",
       "      <td>1.424140</td>\n",
       "      <td>1.424140</td>\n",
       "      <td>0.124102</td>\n",
       "    </tr>\n",
       "    <tr>\n",
       "      <th>1</th>\n",
       "      <td>0.131754</td>\n",
       "      <td>-0.141342</td>\n",
       "      <td>0.141753</td>\n",
       "      <td>0.225928</td>\n",
       "      <td>-0.151082</td>\n",
       "      <td>0.805716</td>\n",
       "      <td>0.805716</td>\n",
       "      <td>0.137519</td>\n",
       "    </tr>\n",
       "    <tr>\n",
       "      <th>2</th>\n",
       "      <td>0.783366</td>\n",
       "      <td>0.666245</td>\n",
       "      <td>0.856220</td>\n",
       "      <td>0.511423</td>\n",
       "      <td>0.769589</td>\n",
       "      <td>1.511155</td>\n",
       "      <td>1.511155</td>\n",
       "      <td>0.691353</td>\n",
       "    </tr>\n",
       "    <tr>\n",
       "      <th>3</th>\n",
       "      <td>0.309285</td>\n",
       "      <td>0.210893</td>\n",
       "      <td>0.375361</td>\n",
       "      <td>0.467186</td>\n",
       "      <td>0.296334</td>\n",
       "      <td>1.494934</td>\n",
       "      <td>1.494934</td>\n",
       "      <td>0.335159</td>\n",
       "    </tr>\n",
       "    <tr>\n",
       "      <th>4</th>\n",
       "      <td>0.318174</td>\n",
       "      <td>0.366969</td>\n",
       "      <td>0.319221</td>\n",
       "      <td>-0.194405</td>\n",
       "      <td>0.319527</td>\n",
       "      <td>1.520242</td>\n",
       "      <td>1.520242</td>\n",
       "      <td>0.258109</td>\n",
       "    </tr>\n",
       "    <tr>\n",
       "      <th>...</th>\n",
       "      <td>...</td>\n",
       "      <td>...</td>\n",
       "      <td>...</td>\n",
       "      <td>...</td>\n",
       "      <td>...</td>\n",
       "      <td>...</td>\n",
       "      <td>...</td>\n",
       "      <td>...</td>\n",
       "    </tr>\n",
       "    <tr>\n",
       "      <th>3141</th>\n",
       "      <td>-0.676534</td>\n",
       "      <td>-0.685005</td>\n",
       "      <td>-0.630230</td>\n",
       "      <td>-0.871666</td>\n",
       "      <td>-0.772602</td>\n",
       "      <td>0.871329</td>\n",
       "      <td>0.871329</td>\n",
       "      <td>-0.905756</td>\n",
       "    </tr>\n",
       "    <tr>\n",
       "      <th>3142</th>\n",
       "      <td>-0.831381</td>\n",
       "      <td>-0.731743</td>\n",
       "      <td>-0.893470</td>\n",
       "      <td>-1.014915</td>\n",
       "      <td>-0.702579</td>\n",
       "      <td>0.625750</td>\n",
       "      <td>0.625750</td>\n",
       "      <td>-0.966845</td>\n",
       "    </tr>\n",
       "    <tr>\n",
       "      <th>3143</th>\n",
       "      <td>-0.718243</td>\n",
       "      <td>-0.792571</td>\n",
       "      <td>-0.746032</td>\n",
       "      <td>-0.967933</td>\n",
       "      <td>-0.853423</td>\n",
       "      <td>1.875565</td>\n",
       "      <td>1.875565</td>\n",
       "      <td>-0.871276</td>\n",
       "    </tr>\n",
       "    <tr>\n",
       "      <th>3144</th>\n",
       "      <td>-0.255827</td>\n",
       "      <td>-0.419226</td>\n",
       "      <td>-0.221755</td>\n",
       "      <td>-0.437901</td>\n",
       "      <td>-0.467388</td>\n",
       "      <td>1.361418</td>\n",
       "      <td>1.361418</td>\n",
       "      <td>-0.213924</td>\n",
       "    </tr>\n",
       "    <tr>\n",
       "      <th>3145</th>\n",
       "      <td>-0.952871</td>\n",
       "      <td>-0.832504</td>\n",
       "      <td>-0.953444</td>\n",
       "      <td>-0.839041</td>\n",
       "      <td>-0.938547</td>\n",
       "      <td>1.183821</td>\n",
       "      <td>1.183821</td>\n",
       "      <td>-0.884260</td>\n",
       "    </tr>\n",
       "  </tbody>\n",
       "</table>\n",
       "<p>3146 rows × 8 columns</p>\n",
       "</div>"
      ],
      "text/plain": [
       "      10%_Roll_100  10%_Roll_1000  5%_Roll_100  5%_Roll_10000  5%_Roll_1000  \\\n",
       "0         0.125037       0.185906     0.138030       0.239306      0.184599   \n",
       "1         0.131754      -0.141342     0.141753       0.225928     -0.151082   \n",
       "2         0.783366       0.666245     0.856220       0.511423      0.769589   \n",
       "3         0.309285       0.210893     0.375361       0.467186      0.296334   \n",
       "4         0.318174       0.366969     0.319221      -0.194405      0.319527   \n",
       "...            ...            ...          ...            ...           ...   \n",
       "3141     -0.676534      -0.685005    -0.630230      -0.871666     -0.772602   \n",
       "3142     -0.831381      -0.731743    -0.893470      -1.014915     -0.702579   \n",
       "3143     -0.718243      -0.792571    -0.746032      -0.967933     -0.853423   \n",
       "3144     -0.255827      -0.419226    -0.221755      -0.437901     -0.467388   \n",
       "3145     -0.952871      -0.832504    -0.953444      -0.839041     -0.938547   \n",
       "\n",
       "          Mean  Real_FFT_Max  10%_Roll_10000  \n",
       "0     1.424140      1.424140        0.124102  \n",
       "1     0.805716      0.805716        0.137519  \n",
       "2     1.511155      1.511155        0.691353  \n",
       "3     1.494934      1.494934        0.335159  \n",
       "4     1.520242      1.520242        0.258109  \n",
       "...        ...           ...             ...  \n",
       "3141  0.871329      0.871329       -0.905756  \n",
       "3142  0.625750      0.625750       -0.966845  \n",
       "3143  1.875565      1.875565       -0.871276  \n",
       "3144  1.361418      1.361418       -0.213924  \n",
       "3145  1.183821      1.183821       -0.884260  \n",
       "\n",
       "[3146 rows x 8 columns]"
      ]
     },
     "execution_count": 197,
     "metadata": {},
     "output_type": "execute_result"
    }
   ],
   "source": [
    "X_train"
   ]
  },
  {
   "cell_type": "markdown",
   "metadata": {},
   "source": [
    "### XGBoost"
   ]
  },
  {
   "cell_type": "markdown",
   "metadata": {},
   "source": [
    "### Hyperparameter Tunning"
   ]
  },
  {
   "cell_type": "code",
   "execution_count": 198,
   "metadata": {},
   "outputs": [
    {
     "name": "stdout",
     "output_type": "stream",
     "text": [
      "Best Parameter {'max_depth': 4, 'n_estimators': 8}\n",
      " Score -2.146826828276016\n"
     ]
    }
   ],
   "source": [
    "param_dist = {'max_depth': sp_randint(3,60),\n",
    "              'n_estimators': sp_randint(1,20)}\n",
    "\n",
    "clf = xgb.XGBRegressor(random_state=25,n_jobs=-1)\n",
    "\n",
    "rf_random = RandomizedSearchCV(clf, param_distributions=param_dist,cv=3,scoring='neg_mean_absolute_error',random_state=25,return_train_score = True)\n",
    "\n",
    "rf_random.fit(X_train,y_train.values.ravel())\n",
    "\n",
    "print(\"Best Parameter {}\\n Score {}\".format(rf_random.best_params_, rf_random.best_score_))"
   ]
  },
  {
   "cell_type": "code",
   "execution_count": 199,
   "metadata": {},
   "outputs": [
    {
     "data": {
      "text/plain": [
       "XGBRegressor(base_score=0.5, booster='gbtree', callbacks=None,\n",
       "             colsample_bylevel=1, colsample_bynode=1, colsample_bytree=1,\n",
       "             early_stopping_rounds=None, enable_categorical=False,\n",
       "             eval_metric='mae', gamma=0, gpu_id=-1, grow_policy='depthwise',\n",
       "             importance_type=None, interaction_constraints='',\n",
       "             learning_rate=0.300000012, max_bin=256, max_cat_to_onehot=4,\n",
       "             max_delta_step=0, max_depth=4, max_leaves=0, min_child_weight=1,\n",
       "             missing=nan, monotone_constraints='()', n_estimators=8, n_jobs=0,\n",
       "             num_parallel_tree=1, predictor='auto', random_state=0, reg_alpha=0,\n",
       "             reg_lambda=1, ...)"
      ]
     },
     "execution_count": 199,
     "metadata": {},
     "output_type": "execute_result"
    }
   ],
   "source": [
    "#https://stackoverflow.com/questions/38556983/xgboost-increasing-training-error-mae\n",
    "Model_Best1 = xgb.XGBRegressor(max_depth= rf_random.best_estimator_.max_depth, n_estimators= rf_random.best_estimator_.n_estimators, eval_metric='mae') \n",
    "\n",
    "Model_Best1.fit(X_train, y_train.values.ravel())"
   ]
  },
  {
   "cell_type": "markdown",
   "metadata": {},
   "source": [
    "### MAE"
   ]
  },
  {
   "cell_type": "code",
   "execution_count": 200,
   "metadata": {},
   "outputs": [
    {
     "name": "stdout",
     "output_type": "stream",
     "text": [
      "2.3637163990259995\n"
     ]
    }
   ],
   "source": [
    "y_pred = Model_Best1.predict(X_test)\n",
    "\n",
    "test_mae1 = mean_absolute_error(y_test, y_pred) \n",
    "print(test_mae1)"
   ]
  },
  {
   "cell_type": "markdown",
   "metadata": {},
   "source": [
    "### Support Vector Regressor"
   ]
  },
  {
   "cell_type": "markdown",
   "metadata": {},
   "source": [
    "### Hyperparameter Tunning"
   ]
  },
  {
   "cell_type": "code",
   "execution_count": 201,
   "metadata": {},
   "outputs": [
    {
     "name": "stdout",
     "output_type": "stream",
     "text": [
      "Best Parameter {'kernel': 'rbf', 'gamma': 0.01, 'C': 0.1}\n",
      " Score -2.1512132583307464\n"
     ]
    }
   ],
   "source": [
    "param_grid = {'C': [0.1, 1, 10, 100, 1000], \n",
    "              'gamma': [1, 0.1, 0.01, 0.001, 0.0001],\n",
    "              'kernel': ['rbf']} \n",
    "\n",
    "clf = SVR(kernel=\"linear\")\n",
    "\n",
    "rf_random = RandomizedSearchCV(clf, param_distributions=param_grid,cv=3,scoring='neg_mean_absolute_error',random_state=25,return_train_score = True)\n",
    "\n",
    "rf_random.fit(X_train,y_train.values.ravel())\n",
    "\n",
    "print(\"Best Parameter {}\\n Score {}\".format(rf_random.best_params_, rf_random.best_score_))"
   ]
  },
  {
   "cell_type": "code",
   "execution_count": 202,
   "metadata": {},
   "outputs": [
    {
     "data": {
      "text/plain": [
       "SVR(C=0.1, gamma=0.01)"
      ]
     },
     "execution_count": 202,
     "metadata": {},
     "output_type": "execute_result"
    }
   ],
   "source": [
    "#https://stackoverflow.com/questions/38556983/xgboost-increasing-training-error-mae\n",
    "Model_Best2 = SVR(kernel = rf_random.best_estimator_.kernel, gamma = rf_random.best_estimator_.gamma, C = rf_random.best_estimator_.C) \n",
    "\n",
    "Model_Best2.fit(X_train, y_train.values.ravel())"
   ]
  },
  {
   "cell_type": "markdown",
   "metadata": {},
   "source": [
    "### MAE"
   ]
  },
  {
   "cell_type": "code",
   "execution_count": 203,
   "metadata": {},
   "outputs": [
    {
     "name": "stdout",
     "output_type": "stream",
     "text": [
      "2.1728025110871365\n"
     ]
    }
   ],
   "source": [
    "y_pred = Model_Best2.predict(X_test)\n",
    "\n",
    "test_mae2 = mean_absolute_error(y_test, y_pred) \n",
    "print(test_mae2)"
   ]
  },
  {
   "cell_type": "markdown",
   "metadata": {},
   "source": [
    "### LGB"
   ]
  },
  {
   "cell_type": "markdown",
   "metadata": {},
   "source": [
    "### Hyperparameter Tunning"
   ]
  },
  {
   "cell_type": "code",
   "execution_count": 204,
   "metadata": {},
   "outputs": [
    {
     "name": "stdout",
     "output_type": "stream",
     "text": [
      "Best Parameter {'max_depth': 1, 'n_estimators': 50}\n",
      " Score -2.1336765949857215\n"
     ]
    }
   ],
   "source": [
    "parameters = { 'n_estimators': [5, 10, 50], 'max_depth': [1, 5, 10]}  \n",
    "\n",
    "clf = lgb.LGBMRegressor(n_jobs=-1) \n",
    "\n",
    "\n",
    "rf_random = GridSearchCV(clf, parameters,scoring='neg_mean_absolute_error')\n",
    "\n",
    "rf_random.fit(X_train,y_train.values.ravel())\n",
    "\n",
    "print(\"Best Parameter {}\\n Score {}\".format(rf_random.best_params_, rf_random.best_score_))"
   ]
  },
  {
   "cell_type": "code",
   "execution_count": 205,
   "metadata": {},
   "outputs": [
    {
     "data": {
      "text/plain": [
       "LGBMRegressor(eval_metric='mae', max_depth=1, n_estimators=50)"
      ]
     },
     "execution_count": 205,
     "metadata": {},
     "output_type": "execute_result"
    }
   ],
   "source": [
    "#https://stackoverflow.com/questions/38556983/xgboost-increasing-training-error-mae\n",
    "Model_Best3 = lgb.LGBMRegressor(max_depth= rf_random.best_estimator_.max_depth, n_estimators= rf_random.best_estimator_.n_estimators, eval_metric='mae') \n",
    "\n",
    "Model_Best3.fit(X_train, y_train.values.ravel())"
   ]
  },
  {
   "cell_type": "markdown",
   "metadata": {},
   "source": [
    "### MAE"
   ]
  },
  {
   "cell_type": "code",
   "execution_count": 206,
   "metadata": {},
   "outputs": [
    {
     "name": "stdout",
     "output_type": "stream",
     "text": [
      "2.231172991420581\n"
     ]
    }
   ],
   "source": [
    "y_pred = Model_Best3.predict(X_test)\n",
    "\n",
    "test_mae3 = mean_absolute_error(y_test, y_pred) \n",
    "print(test_mae3)"
   ]
  },
  {
   "cell_type": "markdown",
   "metadata": {},
   "source": [
    "### AdaBoost Regressor"
   ]
  },
  {
   "cell_type": "markdown",
   "metadata": {},
   "source": [
    "### Hyperparameter Tunning"
   ]
  },
  {
   "cell_type": "code",
   "execution_count": 207,
   "metadata": {},
   "outputs": [
    {
     "name": "stdout",
     "output_type": "stream",
     "text": [
      "Best Parameter {'loss': 'linear', 'n_estimators': 256}\n",
      " Score -2.143131391002577\n"
     ]
    }
   ],
   "source": [
    "#https://scikit-learn.org/stable/modules/generated/sklearn.linear_model.Ridge.html\n",
    "#https://scikit-learn.org/stable/modules/generated/sklearn.ensemble.AdaBoostRegressor.html\n",
    "params = {\"n_estimators\":sp_randint(100,1000),\n",
    "          \"loss\" : ['linear', 'square', 'exponential']} \n",
    "\n",
    "clf = AdaBoostRegressor() \n",
    "\n",
    "rf_random = RandomizedSearchCV(clf, param_distributions=params,cv=3,scoring='neg_mean_absolute_error',random_state=25,return_train_score = True)\n",
    "\n",
    "rf_random.fit(X_train,y_train.values.ravel())\n",
    "\n",
    "print(\"Best Parameter {}\\n Score {}\".format(rf_random.best_params_, rf_random.best_score_))"
   ]
  },
  {
   "cell_type": "code",
   "execution_count": 208,
   "metadata": {},
   "outputs": [
    {
     "data": {
      "text/plain": [
       "AdaBoostRegressor(n_estimators=256, random_state=25)"
      ]
     },
     "execution_count": 208,
     "metadata": {},
     "output_type": "execute_result"
    }
   ],
   "source": [
    "Model_Best4 = AdaBoostRegressor(n_estimators= rf_random.best_estimator_.n_estimators, loss = rf_random.best_estimator_.loss, random_state=25)\n",
    "Model_Best4.fit(X_train,y_train.values.ravel())"
   ]
  },
  {
   "cell_type": "markdown",
   "metadata": {},
   "source": [
    "### MAE"
   ]
  },
  {
   "cell_type": "code",
   "execution_count": 209,
   "metadata": {},
   "outputs": [
    {
     "name": "stdout",
     "output_type": "stream",
     "text": [
      "2.4046131891866307\n"
     ]
    }
   ],
   "source": [
    "y_pred = Model_Best4.predict(X_test)\n",
    "\n",
    "test_mae4 = mean_absolute_error(y_test, y_pred) \n",
    "print(test_mae4)\n"
   ]
  },
  {
   "cell_type": "markdown",
   "metadata": {},
   "source": [
    "## With All Features"
   ]
  },
  {
   "cell_type": "markdown",
   "metadata": {},
   "source": [
    "## Splitting Time Series Data"
   ]
  },
  {
   "cell_type": "code",
   "execution_count": 210,
   "metadata": {},
   "outputs": [],
   "source": [
    "#https://medium.com/@Stan_DS/timeseries-split-with-sklearn-tips-8162c83612b9\n",
    "tscv = TimeSeriesSplit(n_splits = 3)\n",
    "for train_index, test_index in tscv.split(X_train_scaled):\n",
    "    X_train, X_test = X_train_scaled.iloc[train_index, :], X_train_scaled.iloc[test_index,:]\n",
    "    y_train, y_test = Target.iloc[train_index], Target.iloc[test_index]"
   ]
  },
  {
   "cell_type": "code",
   "execution_count": 211,
   "metadata": {},
   "outputs": [
    {
     "data": {
      "text/html": [
       "<div>\n",
       "<style scoped>\n",
       "    .dataframe tbody tr th:only-of-type {\n",
       "        vertical-align: middle;\n",
       "    }\n",
       "\n",
       "    .dataframe tbody tr th {\n",
       "        vertical-align: top;\n",
       "    }\n",
       "\n",
       "    .dataframe thead th {\n",
       "        text-align: right;\n",
       "    }\n",
       "</style>\n",
       "<table border=\"1\" class=\"dataframe\">\n",
       "  <thead>\n",
       "    <tr style=\"text-align: right;\">\n",
       "      <th></th>\n",
       "      <th>Min</th>\n",
       "      <th>SWD_Min</th>\n",
       "      <th>Real_FFT_Min</th>\n",
       "      <th>Imag_FFT_Min</th>\n",
       "      <th>Max</th>\n",
       "      <th>SWD_Max</th>\n",
       "      <th>Real_FFT_Max</th>\n",
       "      <th>Imag_FFT_Max</th>\n",
       "      <th>Mean</th>\n",
       "      <th>SWD_Mean</th>\n",
       "      <th>...</th>\n",
       "      <th>Var_Roll_10000</th>\n",
       "      <th>Avg_Roll_10000</th>\n",
       "      <th>Min_Roll_10000</th>\n",
       "      <th>Abs_Mean_Roll_10000</th>\n",
       "      <th>1%_Roll_10000</th>\n",
       "      <th>5%_Roll_10000</th>\n",
       "      <th>10%_Roll_10000</th>\n",
       "      <th>90%_Roll_10000</th>\n",
       "      <th>95%_Roll_10000</th>\n",
       "      <th>99%_Roll_10000</th>\n",
       "    </tr>\n",
       "  </thead>\n",
       "  <tbody>\n",
       "    <tr>\n",
       "      <th>0</th>\n",
       "      <td>0.193218</td>\n",
       "      <td>-0.761652</td>\n",
       "      <td>0.156736</td>\n",
       "      <td>0.085419</td>\n",
       "      <td>-0.218194</td>\n",
       "      <td>-0.079257</td>\n",
       "      <td>1.424140</td>\n",
       "      <td>-0.085419</td>\n",
       "      <td>1.424140</td>\n",
       "      <td>-0.080484</td>\n",
       "      <td>...</td>\n",
       "      <td>-0.075728</td>\n",
       "      <td>-0.316126</td>\n",
       "      <td>0.214505</td>\n",
       "      <td>-0.316126</td>\n",
       "      <td>0.094451</td>\n",
       "      <td>0.239306</td>\n",
       "      <td>0.124102</td>\n",
       "      <td>-0.527676</td>\n",
       "      <td>-0.260035</td>\n",
       "      <td>-0.117230</td>\n",
       "    </tr>\n",
       "    <tr>\n",
       "      <th>1</th>\n",
       "      <td>-0.018037</td>\n",
       "      <td>-0.274848</td>\n",
       "      <td>-0.222118</td>\n",
       "      <td>-0.042859</td>\n",
       "      <td>0.063936</td>\n",
       "      <td>-0.057610</td>\n",
       "      <td>0.805716</td>\n",
       "      <td>0.042859</td>\n",
       "      <td>0.805716</td>\n",
       "      <td>-0.065211</td>\n",
       "      <td>...</td>\n",
       "      <td>-0.068192</td>\n",
       "      <td>0.146370</td>\n",
       "      <td>0.056884</td>\n",
       "      <td>0.146370</td>\n",
       "      <td>-0.103131</td>\n",
       "      <td>0.225928</td>\n",
       "      <td>0.137519</td>\n",
       "      <td>0.532690</td>\n",
       "      <td>-0.032871</td>\n",
       "      <td>-0.054265</td>\n",
       "    </tr>\n",
       "    <tr>\n",
       "      <th>2</th>\n",
       "      <td>0.163039</td>\n",
       "      <td>-0.787817</td>\n",
       "      <td>-0.104254</td>\n",
       "      <td>-0.138553</td>\n",
       "      <td>-0.086289</td>\n",
       "      <td>-0.054665</td>\n",
       "      <td>1.511155</td>\n",
       "      <td>0.138553</td>\n",
       "      <td>1.511155</td>\n",
       "      <td>-0.060346</td>\n",
       "      <td>...</td>\n",
       "      <td>-0.070504</td>\n",
       "      <td>0.226000</td>\n",
       "      <td>-0.008038</td>\n",
       "      <td>0.226000</td>\n",
       "      <td>-0.113328</td>\n",
       "      <td>0.511423</td>\n",
       "      <td>0.691353</td>\n",
       "      <td>0.195748</td>\n",
       "      <td>-0.062553</td>\n",
       "      <td>-0.019546</td>\n",
       "    </tr>\n",
       "    <tr>\n",
       "      <th>3</th>\n",
       "      <td>-0.187796</td>\n",
       "      <td>0.247219</td>\n",
       "      <td>-0.033851</td>\n",
       "      <td>-0.047721</td>\n",
       "      <td>0.122560</td>\n",
       "      <td>-0.056365</td>\n",
       "      <td>1.494934</td>\n",
       "      <td>0.047721</td>\n",
       "      <td>1.494934</td>\n",
       "      <td>-0.060277</td>\n",
       "      <td>...</td>\n",
       "      <td>-0.064644</td>\n",
       "      <td>0.162346</td>\n",
       "      <td>0.559566</td>\n",
       "      <td>0.162346</td>\n",
       "      <td>0.468210</td>\n",
       "      <td>0.467186</td>\n",
       "      <td>0.335159</td>\n",
       "      <td>-0.066514</td>\n",
       "      <td>0.102640</td>\n",
       "      <td>0.077868</td>\n",
       "    </tr>\n",
       "    <tr>\n",
       "      <th>4</th>\n",
       "      <td>0.087590</td>\n",
       "      <td>0.633760</td>\n",
       "      <td>-0.056324</td>\n",
       "      <td>-0.051860</td>\n",
       "      <td>-0.067969</td>\n",
       "      <td>-0.069187</td>\n",
       "      <td>1.520242</td>\n",
       "      <td>0.051860</td>\n",
       "      <td>1.520242</td>\n",
       "      <td>-0.055758</td>\n",
       "      <td>...</td>\n",
       "      <td>-0.064316</td>\n",
       "      <td>0.222985</td>\n",
       "      <td>0.190118</td>\n",
       "      <td>0.222985</td>\n",
       "      <td>0.026554</td>\n",
       "      <td>-0.194405</td>\n",
       "      <td>0.258109</td>\n",
       "      <td>0.332740</td>\n",
       "      <td>0.062430</td>\n",
       "      <td>0.047680</td>\n",
       "    </tr>\n",
       "    <tr>\n",
       "      <th>...</th>\n",
       "      <td>...</td>\n",
       "      <td>...</td>\n",
       "      <td>...</td>\n",
       "      <td>...</td>\n",
       "      <td>...</td>\n",
       "      <td>...</td>\n",
       "      <td>...</td>\n",
       "      <td>...</td>\n",
       "      <td>...</td>\n",
       "      <td>...</td>\n",
       "      <td>...</td>\n",
       "      <td>...</td>\n",
       "      <td>...</td>\n",
       "      <td>...</td>\n",
       "      <td>...</td>\n",
       "      <td>...</td>\n",
       "      <td>...</td>\n",
       "      <td>...</td>\n",
       "      <td>...</td>\n",
       "      <td>...</td>\n",
       "      <td>...</td>\n",
       "    </tr>\n",
       "    <tr>\n",
       "      <th>3141</th>\n",
       "      <td>0.359205</td>\n",
       "      <td>1.223910</td>\n",
       "      <td>0.325114</td>\n",
       "      <td>0.221192</td>\n",
       "      <td>-0.302466</td>\n",
       "      <td>-0.093022</td>\n",
       "      <td>0.871329</td>\n",
       "      <td>-0.221192</td>\n",
       "      <td>0.871329</td>\n",
       "      <td>-0.088813</td>\n",
       "      <td>...</td>\n",
       "      <td>-0.075868</td>\n",
       "      <td>-0.461936</td>\n",
       "      <td>-0.737784</td>\n",
       "      <td>-0.461936</td>\n",
       "      <td>-0.750818</td>\n",
       "      <td>-0.871666</td>\n",
       "      <td>-0.905756</td>\n",
       "      <td>-0.441018</td>\n",
       "      <td>-0.241229</td>\n",
       "      <td>-0.250008</td>\n",
       "    </tr>\n",
       "    <tr>\n",
       "      <th>3142</th>\n",
       "      <td>-0.372645</td>\n",
       "      <td>1.186725</td>\n",
       "      <td>0.060450</td>\n",
       "      <td>0.032664</td>\n",
       "      <td>0.360722</td>\n",
       "      <td>-0.060982</td>\n",
       "      <td>0.625750</td>\n",
       "      <td>-0.032664</td>\n",
       "      <td>0.625750</td>\n",
       "      <td>-0.066758</td>\n",
       "      <td>...</td>\n",
       "      <td>-0.061809</td>\n",
       "      <td>-0.111200</td>\n",
       "      <td>-0.908770</td>\n",
       "      <td>-0.111200</td>\n",
       "      <td>-0.919940</td>\n",
       "      <td>-1.014915</td>\n",
       "      <td>-0.966845</td>\n",
       "      <td>-0.433471</td>\n",
       "      <td>0.144246</td>\n",
       "      <td>0.122774</td>\n",
       "    </tr>\n",
       "    <tr>\n",
       "      <th>3143</th>\n",
       "      <td>-0.184024</td>\n",
       "      <td>1.324257</td>\n",
       "      <td>-0.329613</td>\n",
       "      <td>-0.169508</td>\n",
       "      <td>0.214161</td>\n",
       "      <td>-0.052561</td>\n",
       "      <td>1.875565</td>\n",
       "      <td>0.169508</td>\n",
       "      <td>1.875565</td>\n",
       "      <td>-0.067184</td>\n",
       "      <td>...</td>\n",
       "      <td>-0.064582</td>\n",
       "      <td>0.005388</td>\n",
       "      <td>-1.052696</td>\n",
       "      <td>0.005388</td>\n",
       "      <td>-0.981612</td>\n",
       "      <td>-0.967933</td>\n",
       "      <td>-0.871276</td>\n",
       "      <td>0.648489</td>\n",
       "      <td>0.010947</td>\n",
       "      <td>-0.012050</td>\n",
       "    </tr>\n",
       "    <tr>\n",
       "      <th>3144</th>\n",
       "      <td>-0.018037</td>\n",
       "      <td>0.005139</td>\n",
       "      <td>-0.222209</td>\n",
       "      <td>0.010949</td>\n",
       "      <td>-0.126593</td>\n",
       "      <td>-0.067976</td>\n",
       "      <td>1.361418</td>\n",
       "      <td>-0.010949</td>\n",
       "      <td>1.361418</td>\n",
       "      <td>-0.069766</td>\n",
       "      <td>...</td>\n",
       "      <td>-0.069397</td>\n",
       "      <td>0.040850</td>\n",
       "      <td>-0.226131</td>\n",
       "      <td>0.040850</td>\n",
       "      <td>-0.302357</td>\n",
       "      <td>-0.437901</td>\n",
       "      <td>-0.213924</td>\n",
       "      <td>0.206090</td>\n",
       "      <td>-0.084845</td>\n",
       "      <td>-0.038555</td>\n",
       "    </tr>\n",
       "    <tr>\n",
       "      <th>3145</th>\n",
       "      <td>0.408246</td>\n",
       "      <td>-0.676073</td>\n",
       "      <td>0.420749</td>\n",
       "      <td>0.476339</td>\n",
       "      <td>-0.430707</td>\n",
       "      <td>-0.097958</td>\n",
       "      <td>1.183821</td>\n",
       "      <td>-0.476339</td>\n",
       "      <td>1.183821</td>\n",
       "      <td>-0.093026</td>\n",
       "      <td>...</td>\n",
       "      <td>-0.076972</td>\n",
       "      <td>-0.589145</td>\n",
       "      <td>-0.848794</td>\n",
       "      <td>-0.589145</td>\n",
       "      <td>-0.767562</td>\n",
       "      <td>-0.839041</td>\n",
       "      <td>-0.884260</td>\n",
       "      <td>-0.673185</td>\n",
       "      <td>-0.304743</td>\n",
       "      <td>-0.317003</td>\n",
       "    </tr>\n",
       "  </tbody>\n",
       "</table>\n",
       "<p>3146 rows × 58 columns</p>\n",
       "</div>"
      ],
      "text/plain": [
       "           Min   SWD_Min  Real_FFT_Min  Imag_FFT_Min       Max   SWD_Max  \\\n",
       "0     0.193218 -0.761652      0.156736      0.085419 -0.218194 -0.079257   \n",
       "1    -0.018037 -0.274848     -0.222118     -0.042859  0.063936 -0.057610   \n",
       "2     0.163039 -0.787817     -0.104254     -0.138553 -0.086289 -0.054665   \n",
       "3    -0.187796  0.247219     -0.033851     -0.047721  0.122560 -0.056365   \n",
       "4     0.087590  0.633760     -0.056324     -0.051860 -0.067969 -0.069187   \n",
       "...        ...       ...           ...           ...       ...       ...   \n",
       "3141  0.359205  1.223910      0.325114      0.221192 -0.302466 -0.093022   \n",
       "3142 -0.372645  1.186725      0.060450      0.032664  0.360722 -0.060982   \n",
       "3143 -0.184024  1.324257     -0.329613     -0.169508  0.214161 -0.052561   \n",
       "3144 -0.018037  0.005139     -0.222209      0.010949 -0.126593 -0.067976   \n",
       "3145  0.408246 -0.676073      0.420749      0.476339 -0.430707 -0.097958   \n",
       "\n",
       "      Real_FFT_Max  Imag_FFT_Max      Mean  SWD_Mean  ...  Var_Roll_10000  \\\n",
       "0         1.424140     -0.085419  1.424140 -0.080484  ...       -0.075728   \n",
       "1         0.805716      0.042859  0.805716 -0.065211  ...       -0.068192   \n",
       "2         1.511155      0.138553  1.511155 -0.060346  ...       -0.070504   \n",
       "3         1.494934      0.047721  1.494934 -0.060277  ...       -0.064644   \n",
       "4         1.520242      0.051860  1.520242 -0.055758  ...       -0.064316   \n",
       "...            ...           ...       ...       ...  ...             ...   \n",
       "3141      0.871329     -0.221192  0.871329 -0.088813  ...       -0.075868   \n",
       "3142      0.625750     -0.032664  0.625750 -0.066758  ...       -0.061809   \n",
       "3143      1.875565      0.169508  1.875565 -0.067184  ...       -0.064582   \n",
       "3144      1.361418     -0.010949  1.361418 -0.069766  ...       -0.069397   \n",
       "3145      1.183821     -0.476339  1.183821 -0.093026  ...       -0.076972   \n",
       "\n",
       "      Avg_Roll_10000  Min_Roll_10000  Abs_Mean_Roll_10000  1%_Roll_10000  \\\n",
       "0          -0.316126        0.214505            -0.316126       0.094451   \n",
       "1           0.146370        0.056884             0.146370      -0.103131   \n",
       "2           0.226000       -0.008038             0.226000      -0.113328   \n",
       "3           0.162346        0.559566             0.162346       0.468210   \n",
       "4           0.222985        0.190118             0.222985       0.026554   \n",
       "...              ...             ...                  ...            ...   \n",
       "3141       -0.461936       -0.737784            -0.461936      -0.750818   \n",
       "3142       -0.111200       -0.908770            -0.111200      -0.919940   \n",
       "3143        0.005388       -1.052696             0.005388      -0.981612   \n",
       "3144        0.040850       -0.226131             0.040850      -0.302357   \n",
       "3145       -0.589145       -0.848794            -0.589145      -0.767562   \n",
       "\n",
       "      5%_Roll_10000  10%_Roll_10000  90%_Roll_10000  95%_Roll_10000  \\\n",
       "0          0.239306        0.124102       -0.527676       -0.260035   \n",
       "1          0.225928        0.137519        0.532690       -0.032871   \n",
       "2          0.511423        0.691353        0.195748       -0.062553   \n",
       "3          0.467186        0.335159       -0.066514        0.102640   \n",
       "4         -0.194405        0.258109        0.332740        0.062430   \n",
       "...             ...             ...             ...             ...   \n",
       "3141      -0.871666       -0.905756       -0.441018       -0.241229   \n",
       "3142      -1.014915       -0.966845       -0.433471        0.144246   \n",
       "3143      -0.967933       -0.871276        0.648489        0.010947   \n",
       "3144      -0.437901       -0.213924        0.206090       -0.084845   \n",
       "3145      -0.839041       -0.884260       -0.673185       -0.304743   \n",
       "\n",
       "      99%_Roll_10000  \n",
       "0          -0.117230  \n",
       "1          -0.054265  \n",
       "2          -0.019546  \n",
       "3           0.077868  \n",
       "4           0.047680  \n",
       "...              ...  \n",
       "3141       -0.250008  \n",
       "3142        0.122774  \n",
       "3143       -0.012050  \n",
       "3144       -0.038555  \n",
       "3145       -0.317003  \n",
       "\n",
       "[3146 rows x 58 columns]"
      ]
     },
     "execution_count": 211,
     "metadata": {},
     "output_type": "execute_result"
    }
   ],
   "source": [
    "X_train"
   ]
  },
  {
   "cell_type": "markdown",
   "metadata": {},
   "source": [
    "## XGB Regressor"
   ]
  },
  {
   "cell_type": "markdown",
   "metadata": {},
   "source": [
    "### Hyperparameter Tunning"
   ]
  },
  {
   "cell_type": "code",
   "execution_count": 212,
   "metadata": {},
   "outputs": [
    {
     "name": "stdout",
     "output_type": "stream",
     "text": [
      "Best Parameter {'max_depth': 4, 'n_estimators': 8}\n",
      " Score -2.169322276041964\n"
     ]
    }
   ],
   "source": [
    "param_dist = {'max_depth': sp_randint(3,60),\n",
    "              'n_estimators': sp_randint(1,20)}\n",
    "\n",
    "clf = xgb.XGBRegressor(random_state=25,n_jobs=-1)\n",
    "\n",
    "rf_random = RandomizedSearchCV(clf, param_distributions=param_dist,cv=3,scoring='neg_mean_absolute_error',random_state=25,return_train_score = True)\n",
    "\n",
    "rf_random.fit(X_train,y_train.values.ravel())\n",
    "\n",
    "print(\"Best Parameter {}\\n Score {}\".format(rf_random.best_params_, rf_random.best_score_))"
   ]
  },
  {
   "cell_type": "code",
   "execution_count": 213,
   "metadata": {},
   "outputs": [
    {
     "data": {
      "text/plain": [
       "XGBRegressor(base_score=0.5, booster='gbtree', callbacks=None,\n",
       "             colsample_bylevel=1, colsample_bynode=1, colsample_bytree=1,\n",
       "             early_stopping_rounds=None, enable_categorical=False,\n",
       "             eval_metric='mae', gamma=0, gpu_id=-1, grow_policy='depthwise',\n",
       "             importance_type=None, interaction_constraints='',\n",
       "             learning_rate=0.300000012, max_bin=256, max_cat_to_onehot=4,\n",
       "             max_delta_step=0, max_depth=4, max_leaves=0, min_child_weight=1,\n",
       "             missing=nan, monotone_constraints='()', n_estimators=8, n_jobs=0,\n",
       "             num_parallel_tree=1, predictor='auto', random_state=0, reg_alpha=0,\n",
       "             reg_lambda=1, ...)"
      ]
     },
     "execution_count": 213,
     "metadata": {},
     "output_type": "execute_result"
    }
   ],
   "source": [
    "#https://stackoverflow.com/questions/38556983/xgboost-increasing-training-error-mae\n",
    "Model_all_Best1 = xgb.XGBRegressor(max_depth= rf_random.best_estimator_.max_depth, n_estimators= rf_random.best_estimator_.n_estimators, eval_metric='mae') \n",
    "\n",
    "Model_all_Best1.fit(X_train, y_train.values.ravel())"
   ]
  },
  {
   "cell_type": "markdown",
   "metadata": {},
   "source": [
    "### MAE"
   ]
  },
  {
   "cell_type": "code",
   "execution_count": 214,
   "metadata": {},
   "outputs": [
    {
     "name": "stdout",
     "output_type": "stream",
     "text": [
      "2.341876603438909\n"
     ]
    }
   ],
   "source": [
    "y_pred = Model_all_Best1.predict(X_test)\n",
    "\n",
    "test_mae_all1 = mean_absolute_error(y_test, y_pred) \n",
    "print(test_mae_all1)"
   ]
  },
  {
   "cell_type": "markdown",
   "metadata": {},
   "source": [
    "### Support Vector Regressor"
   ]
  },
  {
   "cell_type": "markdown",
   "metadata": {},
   "source": [
    "### Hyperparameter Tunning"
   ]
  },
  {
   "cell_type": "code",
   "execution_count": 215,
   "metadata": {},
   "outputs": [
    {
     "name": "stdout",
     "output_type": "stream",
     "text": [
      "Best Parameter {'kernel': 'rbf', 'gamma': 0.001, 'C': 10}\n",
      " Score -2.1493569404557533\n"
     ]
    }
   ],
   "source": [
    "param_grid = {'C': [0.1, 1, 10, 100, 1000], \n",
    "              'gamma': [1, 0.1, 0.01, 0.001, 0.0001],\n",
    "              'kernel': ['rbf']} \n",
    "\n",
    "clf = SVR(kernel=\"linear\")\n",
    "\n",
    "rf_random = RandomizedSearchCV(clf, param_distributions=param_grid,cv=3,scoring='neg_mean_absolute_error',random_state=25,return_train_score = True)\n",
    "\n",
    "rf_random.fit(X_train,y_train.values.ravel())\n",
    "\n",
    "print(\"Best Parameter {}\\n Score {}\".format(rf_random.best_params_, rf_random.best_score_))"
   ]
  },
  {
   "cell_type": "code",
   "execution_count": 216,
   "metadata": {},
   "outputs": [
    {
     "data": {
      "text/plain": [
       "SVR(C=10, gamma=0.001)"
      ]
     },
     "execution_count": 216,
     "metadata": {},
     "output_type": "execute_result"
    }
   ],
   "source": [
    "#https://stackoverflow.com/questions/38556983/xgboost-increasing-training-error-mae\n",
    "Model_all_Best2 = SVR(kernel = rf_random.best_estimator_.kernel, gamma = rf_random.best_estimator_.gamma, C = rf_random.best_estimator_.C) \n",
    "\n",
    "Model_all_Best2.fit(X_train, y_train.values.ravel())"
   ]
  },
  {
   "cell_type": "markdown",
   "metadata": {},
   "source": [
    "### MAE"
   ]
  },
  {
   "cell_type": "code",
   "execution_count": 217,
   "metadata": {},
   "outputs": [
    {
     "name": "stdout",
     "output_type": "stream",
     "text": [
      "2.2416251209020475\n"
     ]
    }
   ],
   "source": [
    "y_pred = Model_all_Best2.predict(X_test)\n",
    "\n",
    "test_mae_all2 = mean_absolute_error(y_test, y_pred) \n",
    "print(test_mae_all2)"
   ]
  },
  {
   "cell_type": "markdown",
   "metadata": {},
   "source": [
    "### LGB"
   ]
  },
  {
   "cell_type": "markdown",
   "metadata": {},
   "source": [
    "### Hyperparameter Tunning"
   ]
  },
  {
   "cell_type": "code",
   "execution_count": 218,
   "metadata": {},
   "outputs": [
    {
     "name": "stdout",
     "output_type": "stream",
     "text": [
      "Best Parameter {'max_depth': 1, 'n_estimators': 50}\n",
      " Score -2.1543482663050395\n"
     ]
    }
   ],
   "source": [
    "parameters = { 'n_estimators': [5, 10, 50], 'max_depth': [1, 5, 10]}  \n",
    "\n",
    "clf = lgb.LGBMRegressor(n_jobs=-1) \n",
    "\n",
    "\n",
    "rf_random = GridSearchCV(clf, parameters,scoring='neg_mean_absolute_error')\n",
    "\n",
    "rf_random.fit(X_train,y_train.values.ravel())\n",
    "\n",
    "print(\"Best Parameter {}\\n Score {}\".format(rf_random.best_params_, rf_random.best_score_))"
   ]
  },
  {
   "cell_type": "code",
   "execution_count": 219,
   "metadata": {},
   "outputs": [
    {
     "data": {
      "text/plain": [
       "LGBMRegressor(eval_metric='mae', max_depth=1, n_estimators=50)"
      ]
     },
     "execution_count": 219,
     "metadata": {},
     "output_type": "execute_result"
    }
   ],
   "source": [
    "#https://stackoverflow.com/questions/38556983/xgboost-increasing-training-error-mae\n",
    "Model_all_Best3 = lgb.LGBMRegressor(max_depth= rf_random.best_estimator_.max_depth, n_estimators= rf_random.best_estimator_.n_estimators, eval_metric='mae') \n",
    "\n",
    "Model_all_Best3.fit(X_train, y_train.values.ravel())"
   ]
  },
  {
   "cell_type": "markdown",
   "metadata": {},
   "source": [
    "### MAE"
   ]
  },
  {
   "cell_type": "code",
   "execution_count": 220,
   "metadata": {},
   "outputs": [
    {
     "name": "stdout",
     "output_type": "stream",
     "text": [
      "2.278750386298614\n"
     ]
    }
   ],
   "source": [
    "y_pred = Model_all_Best3.predict(X_test)\n",
    "\n",
    "test_mae_all3 = mean_absolute_error(y_test, y_pred) \n",
    "print(test_mae_all3)"
   ]
  },
  {
   "cell_type": "markdown",
   "metadata": {},
   "source": [
    "### AdaBoost Regressor"
   ]
  },
  {
   "cell_type": "markdown",
   "metadata": {},
   "source": [
    "### Hyperparameter Tunning"
   ]
  },
  {
   "cell_type": "code",
   "execution_count": 221,
   "metadata": {},
   "outputs": [
    {
     "name": "stdout",
     "output_type": "stream",
     "text": [
      "Best Parameter {'loss': 'linear', 'n_estimators': 256}\n",
      " Score -2.2943451510389683\n"
     ]
    }
   ],
   "source": [
    "#https://scikit-learn.org/stable/modules/generated/sklearn.linear_model.Ridge.html\n",
    "#https://scikit-learn.org/stable/modules/generated/sklearn.ensemble.AdaBoostRegressor.html\n",
    "params = {\"n_estimators\":sp_randint(100,1000),\n",
    "          \"loss\" : ['linear', 'square', 'exponential']} \n",
    "\n",
    "clf = AdaBoostRegressor() \n",
    "\n",
    "rf_random = RandomizedSearchCV(clf, param_distributions=params,cv=3,scoring='neg_mean_absolute_error',random_state=25,return_train_score = True)\n",
    "\n",
    "rf_random.fit(X_train,y_train.values.ravel())\n",
    "\n",
    "print(\"Best Parameter {}\\n Score {}\".format(rf_random.best_params_, rf_random.best_score_))"
   ]
  },
  {
   "cell_type": "code",
   "execution_count": 222,
   "metadata": {},
   "outputs": [
    {
     "data": {
      "text/plain": [
       "AdaBoostRegressor(n_estimators=256, random_state=25)"
      ]
     },
     "execution_count": 222,
     "metadata": {},
     "output_type": "execute_result"
    }
   ],
   "source": [
    "Model_all_Best4 = AdaBoostRegressor(n_estimators= rf_random.best_estimator_.n_estimators, loss = rf_random.best_estimator_.loss, random_state=25)\n",
    "Model_all_Best4.fit(X_train,y_train.values.ravel())"
   ]
  },
  {
   "cell_type": "markdown",
   "metadata": {},
   "source": [
    "### MAE"
   ]
  },
  {
   "cell_type": "code",
   "execution_count": 223,
   "metadata": {},
   "outputs": [
    {
     "name": "stdout",
     "output_type": "stream",
     "text": [
      "2.529421651170179\n"
     ]
    }
   ],
   "source": [
    "y_pred = Model_all_Best4.predict(X_test)\n",
    "\n",
    "test_mae_all4 = mean_absolute_error(y_test, y_pred) \n",
    "print(test_mae_all4)\n"
   ]
  },
  {
   "cell_type": "markdown",
   "metadata": {},
   "source": [
    "### Plotting All Model MAE"
   ]
  },
  {
   "cell_type": "code",
   "execution_count": 224,
   "metadata": {},
   "outputs": [],
   "source": [
    "from prettytable import PrettyTable\n",
    "x = PrettyTable()"
   ]
  },
  {
   "cell_type": "code",
   "execution_count": 225,
   "metadata": {},
   "outputs": [
    {
     "name": "stdout",
     "output_type": "stream",
     "text": [
      "+--------------+----------+--------------------+\n",
      "|   Features   |  Model   |        MAE         |\n",
      "+--------------+----------+--------------------+\n",
      "| Top_Features |   XGB    | 2.3637163990259995 |\n",
      "| Top_Features |   SVR    | 2.1728025110871365 |\n",
      "| Top_Features |   LGB    | 2.231172991420581  |\n",
      "| Top_Features | AdaBoost | 2.4046131891866307 |\n",
      "| All_Features |   XGB    | 2.341876603438909  |\n",
      "| All_Features |   SVR    | 2.2416251209020475 |\n",
      "| All_Features |   LGB    | 2.278750386298614  |\n",
      "| All_Features | AdaBoost | 2.529421651170179  |\n",
      "+--------------+----------+--------------------+\n"
     ]
    }
   ],
   "source": [
    "x.field_names = [\"Features\", \"Model\", \"MAE\"]  #https://pypi.org/project/prettytable/\n",
    "x.add_row([\"Top_Features\", \"XGB\", test_mae1])\n",
    "x.add_row([\"Top_Features\", \"SVR\", test_mae2])\n",
    "x.add_row([\"Top_Features\", \"LGB\", test_mae3])\n",
    "x.add_row([\"Top_Features\", \"AdaBoost\", test_mae4])\n",
    "\n",
    "x.add_row([\"All_Features\", \"XGB\", test_mae_all1])\n",
    "x.add_row([\"All_Features\", \"SVR\", test_mae_all2])\n",
    "x.add_row([\"All_Features\", \"LGB\", test_mae_all3])\n",
    "x.add_row([\"All_Features\", \"AdaBoost\", test_mae_all4])\n",
    "\n",
    "\n",
    "print(x)"
   ]
  },
  {
   "cell_type": "code",
   "execution_count": 226,
   "metadata": {},
   "outputs": [],
   "source": [
    "import pickle\n",
    "\n",
    "filename = 'final_Best_Model.sav'\n",
    "filename2 = 'Standard_scalar.sav'\n",
    "pickle.dump(Model_Best2, open(filename, 'wb'))\n",
    "pickle.dump(scaler, open(filename2, 'wb'))"
   ]
  },
  {
   "cell_type": "markdown",
   "metadata": {},
   "source": [
    "## Observation\n",
    "### From the above table we can see that SVR with Top Features have lowest MAE"
   ]
  },
  {
   "cell_type": "code",
   "execution_count": null,
   "metadata": {},
   "outputs": [],
   "source": []
  }
 ],
 "metadata": {
  "kernelspec": {
   "display_name": "Python 3 (ipykernel)",
   "language": "python",
   "name": "python3"
  },
  "language_info": {
   "codemirror_mode": {
    "name": "ipython",
    "version": 3
   },
   "file_extension": ".py",
   "mimetype": "text/x-python",
   "name": "python",
   "nbconvert_exporter": "python",
   "pygments_lexer": "ipython3",
   "version": "3.7.16"
  }
 },
 "nbformat": 4,
 "nbformat_minor": 4
}
